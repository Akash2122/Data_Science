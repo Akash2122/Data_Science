{
 "cells": [
  {
   "cell_type": "markdown",
   "source": [
    "Perform clustering (hierarchical,K means clustering and DBSCAN) for the airlines data to obtain optimum number of clusters. \r\n",
    "Draw the inferences from the clusters obtained.\r\n",
    "\r\n",
    "Data Description:\r\n",
    " \r\n",
    "The file EastWestAirlinescontains information on passengers who belong to an airline’s frequent flier program. For each passenger the data include information on their mileage history and on different ways they accrued or spent miles in the last year. The goal is to try to identify clusters of passengers that have similar characteristics for the purpose of targeting different segments for different types of mileage offers\r\n",
    "\r\n",
    "ID --Unique ID\r\n",
    "\r\n",
    "Balance--Number of miles eligible for award travel\r\n",
    "\r\n",
    "Qual_mile--Number of miles counted as qualifying for Topflight status\r\n",
    "\r\n",
    "cc1_miles -- Number of miles earned with freq. flyer credit card in the past 12 months:\r\n",
    "cc2_miles -- Number of miles earned with Rewards credit card in the past 12 months:\r\n",
    "cc3_miles -- Number of miles earned with Small Business credit card in the past 12 months:\r\n",
    "\r\n",
    "1 = under 5,000\r\n",
    "2 = 5,000 - 10,000\r\n",
    "3 = 10,001 - 25,000\r\n",
    "4 = 25,001 - 50,000\r\n",
    "5 = over 50,000\r\n",
    "\r\n",
    "Bonus_miles--Number of miles earned from non-flight bonus transactions in the past 12 months\r\n",
    "\r\n",
    "Bonus_trans--Number of non-flight bonus transactions in the past 12 months\r\n",
    "\r\n",
    "Flight_miles_12mo--Number of flight miles in the past 12 months\r\n",
    "\r\n",
    "Flight_trans_12--Number of flight transactions in the past 12 months\r\n",
    "\r\n",
    "Days_since_enrolled--Number of days since enrolled in flier program\r\n",
    "\r\n",
    "Award--whether that person had award flight (free flight) or not\r\n",
    "\r\n",
    "\r\n",
    " "
   ],
   "metadata": {}
  },
  {
   "cell_type": "code",
   "execution_count": null,
   "source": [
    "import pandas as pd\r\n",
    "import numpy as np\r\n",
    "import matplotlib.pyplot as plt \r\n",
    "import seaborn as sns\r\n",
    "from sklearn.cluster import KMeans, DBSCAN, _hierarchical_fast"
   ],
   "outputs": [],
   "metadata": {}
  },
  {
   "cell_type": "code",
   "execution_count": 1,
   "source": [
    "raw_data = pd.read_csv(\"EastWestAirlines.csv\")"
   ],
   "outputs": [
    {
     "output_type": "error",
     "ename": "NameError",
     "evalue": "name 'pd' is not defined",
     "traceback": [
      "\u001b[1;31m---------------------------------------------------------------------------\u001b[0m",
      "\u001b[1;31mNameError\u001b[0m                                 Traceback (most recent call last)",
      "\u001b[1;32m~\\AppData\\Local\\Temp/ipykernel_12472/2959212258.py\u001b[0m in \u001b[0;36m<module>\u001b[1;34m\u001b[0m\n\u001b[1;32m----> 1\u001b[1;33m \u001b[0mraw_data\u001b[0m \u001b[1;33m=\u001b[0m \u001b[0mpd\u001b[0m\u001b[1;33m.\u001b[0m\u001b[0mread_csv\u001b[0m\u001b[1;33m(\u001b[0m\u001b[1;34m\"EastWestAirlines.csv\"\u001b[0m\u001b[1;33m)\u001b[0m\u001b[1;33m\u001b[0m\u001b[1;33m\u001b[0m\u001b[0m\n\u001b[0m",
      "\u001b[1;31mNameError\u001b[0m: name 'pd' is not defined"
     ]
    }
   ],
   "metadata": {}
  },
  {
   "cell_type": "code",
   "execution_count": null,
   "source": [],
   "outputs": [],
   "metadata": {}
  }
 ],
 "metadata": {
  "orig_nbformat": 4,
  "language_info": {
   "name": "python",
   "version": "3.9.7",
   "mimetype": "text/x-python",
   "codemirror_mode": {
    "name": "ipython",
    "version": 3
   },
   "pygments_lexer": "ipython3",
   "nbconvert_exporter": "python",
   "file_extension": ".py"
  },
  "kernelspec": {
   "name": "python3",
   "display_name": "Python 3.9.7 64-bit"
  },
  "interpreter": {
   "hash": "35392685bbf6d6fe64763da41ae73229a64a62133a14e535f59b1730fb7cb56a"
  }
 },
 "nbformat": 4,
 "nbformat_minor": 2
}