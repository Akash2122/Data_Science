{
 "cells": [
  {
   "cell_type": "markdown",
   "source": [
    "Perform Clustering(Hierarchical, Kmeans & DBSCAN) for the crime data and identify the number of clusters formed and draw inferences.\r\n",
    "\r\n",
    "Data Description:\r\n",
    "* Murder -- Muder rates in different places of United States\r\n",
    "* Assualt- Assualt rate in different places of United States\r\n",
    "* UrbanPop - urban population in different places of United States\r\n",
    "* Rape - Rape rate in different places of United States\r\n"
   ],
   "metadata": {}
  },
  {
   "cell_type": "code",
   "execution_count": 1,
   "source": [
    "import pandas as pd\r\n",
    "import matplotlib.pyplot as plt\r\n",
    "%matplotlib inline \r\n",
    "import seaborn as sns \r\n",
    "from sklearn.preprocessing import StandardScaler,Normalizer\r\n",
    "from sklearn.cluster import KMeans\r\n",
    "from sklearn.cluster import AgglomerativeClustering\r\n",
    "from sklearn.cluster import DBSCAN\r\n"
   ],
   "outputs": [],
   "metadata": {}
  },
  {
   "cell_type": "code",
   "execution_count": 2,
   "source": [
    "#Importing the data\r\n",
    "crime_data = pd.read_csv(\"crime_data.csv\")\r\n",
    "crime_data.head()"
   ],
   "outputs": [
    {
     "output_type": "execute_result",
     "data": {
      "text/html": [
       "<div>\n",
       "<style scoped>\n",
       "    .dataframe tbody tr th:only-of-type {\n",
       "        vertical-align: middle;\n",
       "    }\n",
       "\n",
       "    .dataframe tbody tr th {\n",
       "        vertical-align: top;\n",
       "    }\n",
       "\n",
       "    .dataframe thead th {\n",
       "        text-align: right;\n",
       "    }\n",
       "</style>\n",
       "<table border=\"1\" class=\"dataframe\">\n",
       "  <thead>\n",
       "    <tr style=\"text-align: right;\">\n",
       "      <th></th>\n",
       "      <th>Unnamed: 0</th>\n",
       "      <th>Murder</th>\n",
       "      <th>Assault</th>\n",
       "      <th>UrbanPop</th>\n",
       "      <th>Rape</th>\n",
       "    </tr>\n",
       "  </thead>\n",
       "  <tbody>\n",
       "    <tr>\n",
       "      <th>0</th>\n",
       "      <td>Alabama</td>\n",
       "      <td>13.2</td>\n",
       "      <td>236</td>\n",
       "      <td>58</td>\n",
       "      <td>21.2</td>\n",
       "    </tr>\n",
       "    <tr>\n",
       "      <th>1</th>\n",
       "      <td>Alaska</td>\n",
       "      <td>10.0</td>\n",
       "      <td>263</td>\n",
       "      <td>48</td>\n",
       "      <td>44.5</td>\n",
       "    </tr>\n",
       "    <tr>\n",
       "      <th>2</th>\n",
       "      <td>Arizona</td>\n",
       "      <td>8.1</td>\n",
       "      <td>294</td>\n",
       "      <td>80</td>\n",
       "      <td>31.0</td>\n",
       "    </tr>\n",
       "    <tr>\n",
       "      <th>3</th>\n",
       "      <td>Arkansas</td>\n",
       "      <td>8.8</td>\n",
       "      <td>190</td>\n",
       "      <td>50</td>\n",
       "      <td>19.5</td>\n",
       "    </tr>\n",
       "    <tr>\n",
       "      <th>4</th>\n",
       "      <td>California</td>\n",
       "      <td>9.0</td>\n",
       "      <td>276</td>\n",
       "      <td>91</td>\n",
       "      <td>40.6</td>\n",
       "    </tr>\n",
       "  </tbody>\n",
       "</table>\n",
       "</div>"
      ],
      "text/plain": [
       "   Unnamed: 0  Murder  Assault  UrbanPop  Rape\n",
       "0     Alabama    13.2      236        58  21.2\n",
       "1      Alaska    10.0      263        48  44.5\n",
       "2     Arizona     8.1      294        80  31.0\n",
       "3    Arkansas     8.8      190        50  19.5\n",
       "4  California     9.0      276        91  40.6"
      ]
     },
     "metadata": {},
     "execution_count": 2
    }
   ],
   "metadata": {}
  },
  {
   "cell_type": "code",
   "execution_count": 3,
   "source": [
    "crime_data.info()"
   ],
   "outputs": [
    {
     "output_type": "stream",
     "name": "stdout",
     "text": [
      "<class 'pandas.core.frame.DataFrame'>\n",
      "RangeIndex: 50 entries, 0 to 49\n",
      "Data columns (total 5 columns):\n",
      " #   Column      Non-Null Count  Dtype  \n",
      "---  ------      --------------  -----  \n",
      " 0   Unnamed: 0  50 non-null     object \n",
      " 1   Murder      50 non-null     float64\n",
      " 2   Assault     50 non-null     int64  \n",
      " 3   UrbanPop    50 non-null     int64  \n",
      " 4   Rape        50 non-null     float64\n",
      "dtypes: float64(2), int64(2), object(1)\n",
      "memory usage: 2.1+ KB\n"
     ]
    }
   ],
   "metadata": {}
  },
  {
   "cell_type": "code",
   "execution_count": 4,
   "source": [
    "#Drop the Colum\r\n",
    "crime_data.drop(columns=[\"Unnamed: 0\"],axis=1,inplace=True)\r\n"
   ],
   "outputs": [],
   "metadata": {}
  },
  {
   "cell_type": "code",
   "execution_count": 5,
   "source": [
    "#Standardizing the data \r\n",
    "std = StandardScaler()\r\n",
    "crime_std = std.fit_transform(crime_data)\r\n",
    "crime_std"
   ],
   "outputs": [
    {
     "output_type": "execute_result",
     "data": {
      "text/plain": [
       "array([[ 1.25517927,  0.79078716, -0.52619514, -0.00345116],\n",
       "       [ 0.51301858,  1.11805959, -1.22406668,  2.50942392],\n",
       "       [ 0.07236067,  1.49381682,  1.00912225,  1.05346626],\n",
       "       [ 0.23470832,  0.23321191, -1.08449238, -0.18679398],\n",
       "       [ 0.28109336,  1.2756352 ,  1.77678094,  2.08881393],\n",
       "       [ 0.02597562,  0.40290872,  0.86954794,  1.88390137],\n",
       "       [-1.04088037, -0.73648418,  0.79976079, -1.09272319],\n",
       "       [-0.43787481,  0.81502956,  0.45082502, -0.58583422],\n",
       "       [ 1.76541475,  1.99078607,  1.00912225,  1.1505301 ],\n",
       "       [ 2.22926518,  0.48775713, -0.38662083,  0.49265293],\n",
       "       [-0.57702994, -1.51224105,  1.21848371, -0.11129987],\n",
       "       [-1.20322802, -0.61527217, -0.80534376, -0.75839217],\n",
       "       [ 0.60578867,  0.94836277,  1.21848371,  0.29852525],\n",
       "       [-0.13637203, -0.70012057, -0.03768506, -0.0250209 ],\n",
       "       [-1.29599811, -1.39102904, -0.5959823 , -1.07115345],\n",
       "       [-0.41468229, -0.67587817,  0.03210209, -0.34856705],\n",
       "       [ 0.44344101, -0.74860538, -0.94491807, -0.53190987],\n",
       "       [ 1.76541475,  0.94836277,  0.03210209,  0.10439756],\n",
       "       [-1.31919063, -1.06375661, -1.01470522, -1.44862395],\n",
       "       [ 0.81452136,  1.56654403,  0.10188925,  0.70835037],\n",
       "       [-0.78576263, -0.26375734,  1.35805802, -0.53190987],\n",
       "       [ 1.00006153,  1.02108998,  0.59039932,  1.49564599],\n",
       "       [-1.1800355 , -1.19708982,  0.03210209, -0.68289807],\n",
       "       [ 1.9277624 ,  1.06957478, -1.5032153 , -0.44563089],\n",
       "       [ 0.28109336,  0.0877575 ,  0.31125071,  0.75148985],\n",
       "       [-0.41468229, -0.74860538, -0.87513091, -0.521125  ],\n",
       "       [-0.80895515, -0.83345379, -0.24704653, -0.51034012],\n",
       "       [ 1.02325405,  0.98472638,  1.0789094 ,  2.671197  ],\n",
       "       [-1.31919063, -1.37890783, -0.66576945, -1.26528114],\n",
       "       [-0.08998698, -0.14254532,  1.63720664, -0.26228808],\n",
       "       [ 0.83771388,  1.38472601,  0.31125071,  1.17209984],\n",
       "       [ 0.76813632,  1.00896878,  1.42784517,  0.52500755],\n",
       "       [ 1.20879423,  2.01502847, -1.43342815, -0.55347961],\n",
       "       [-1.62069341, -1.52436225, -1.5032153 , -1.50254831],\n",
       "       [-0.11317951, -0.61527217,  0.66018648,  0.01811858],\n",
       "       [-0.27552716, -0.23951493,  0.1716764 , -0.13286962],\n",
       "       [-0.66980002, -0.14254532,  0.10188925,  0.87012344],\n",
       "       [-0.34510472, -0.78496898,  0.45082502, -0.68289807],\n",
       "       [-1.01768785,  0.03927269,  1.49763233, -1.39469959],\n",
       "       [ 1.53348953,  1.3119988 , -1.22406668,  0.13675217],\n",
       "       [-0.92491776, -1.027393  , -1.43342815, -0.90938037],\n",
       "       [ 1.25517927,  0.20896951, -0.45640799,  0.61128652],\n",
       "       [ 1.13921666,  0.36654512,  1.00912225,  0.46029832],\n",
       "       [-1.06407289, -0.61527217,  1.00912225,  0.17989166],\n",
       "       [-1.29599811, -1.48799864, -2.34066115, -1.08193832],\n",
       "       [ 0.16513075, -0.17890893, -0.17725937, -0.05737552],\n",
       "       [-0.87853272, -0.31224214,  0.52061217,  0.53579242],\n",
       "       [-0.48425985, -1.08799901, -1.85215107, -1.28685088],\n",
       "       [-1.20322802, -1.42739264,  0.03210209, -1.1250778 ],\n",
       "       [-0.22914211, -0.11830292, -0.38662083, -0.60740397]])"
      ]
     },
     "metadata": {},
     "execution_count": 5
    }
   ],
   "metadata": {}
  },
  {
   "cell_type": "code",
   "execution_count": 6,
   "source": [
    "crime_std = pd.DataFrame(crime_std)\r\n",
    "crime_std.head()"
   ],
   "outputs": [
    {
     "output_type": "execute_result",
     "data": {
      "text/html": [
       "<div>\n",
       "<style scoped>\n",
       "    .dataframe tbody tr th:only-of-type {\n",
       "        vertical-align: middle;\n",
       "    }\n",
       "\n",
       "    .dataframe tbody tr th {\n",
       "        vertical-align: top;\n",
       "    }\n",
       "\n",
       "    .dataframe thead th {\n",
       "        text-align: right;\n",
       "    }\n",
       "</style>\n",
       "<table border=\"1\" class=\"dataframe\">\n",
       "  <thead>\n",
       "    <tr style=\"text-align: right;\">\n",
       "      <th></th>\n",
       "      <th>0</th>\n",
       "      <th>1</th>\n",
       "      <th>2</th>\n",
       "      <th>3</th>\n",
       "    </tr>\n",
       "  </thead>\n",
       "  <tbody>\n",
       "    <tr>\n",
       "      <th>0</th>\n",
       "      <td>1.255179</td>\n",
       "      <td>0.790787</td>\n",
       "      <td>-0.526195</td>\n",
       "      <td>-0.003451</td>\n",
       "    </tr>\n",
       "    <tr>\n",
       "      <th>1</th>\n",
       "      <td>0.513019</td>\n",
       "      <td>1.118060</td>\n",
       "      <td>-1.224067</td>\n",
       "      <td>2.509424</td>\n",
       "    </tr>\n",
       "    <tr>\n",
       "      <th>2</th>\n",
       "      <td>0.072361</td>\n",
       "      <td>1.493817</td>\n",
       "      <td>1.009122</td>\n",
       "      <td>1.053466</td>\n",
       "    </tr>\n",
       "    <tr>\n",
       "      <th>3</th>\n",
       "      <td>0.234708</td>\n",
       "      <td>0.233212</td>\n",
       "      <td>-1.084492</td>\n",
       "      <td>-0.186794</td>\n",
       "    </tr>\n",
       "    <tr>\n",
       "      <th>4</th>\n",
       "      <td>0.281093</td>\n",
       "      <td>1.275635</td>\n",
       "      <td>1.776781</td>\n",
       "      <td>2.088814</td>\n",
       "    </tr>\n",
       "  </tbody>\n",
       "</table>\n",
       "</div>"
      ],
      "text/plain": [
       "          0         1         2         3\n",
       "0  1.255179  0.790787 -0.526195 -0.003451\n",
       "1  0.513019  1.118060 -1.224067  2.509424\n",
       "2  0.072361  1.493817  1.009122  1.053466\n",
       "3  0.234708  0.233212 -1.084492 -0.186794\n",
       "4  0.281093  1.275635  1.776781  2.088814"
      ]
     },
     "metadata": {},
     "execution_count": 6
    }
   ],
   "metadata": {}
  },
  {
   "cell_type": "markdown",
   "source": [
    "# K-means Clustring"
   ],
   "metadata": {}
  },
  {
   "cell_type": "code",
   "execution_count": 7,
   "source": [
    "# Finding the correct \"K\" value\r\n",
    "WCSS = [] #list of Within cluster Sum of Squares\r\n",
    "for i in range(1,11):   # trying k value from 1 to 10\r\n",
    "    kmeans = KMeans(n_clusters=i,random_state=42)\r\n",
    "    kmeans.fit(crime_std)\r\n",
    "    WCSS.append(kmeans.inertia_)\r\n",
    "\r\n",
    "# Ploting WCSS VS K \r\n",
    "plt.plot(range(1,11),WCSS)\r\n",
    "plt.xlabel(\"Number of cluster('K'-values)\")\r\n",
    "plt.ylabel(\"WCSS\")\r\n",
    "plt.title(\"ELBOW method to find K\")\r\n"
   ],
   "outputs": [
    {
     "output_type": "execute_result",
     "data": {
      "text/plain": [
       "Text(0.5, 1.0, 'ELBOW method to find K')"
      ]
     },
     "metadata": {},
     "execution_count": 7
    },
    {
     "output_type": "display_data",
     "data": {
      "image/png": "[encoded data removed]",
      "text/plain": [
       "<Figure size 432x288 with 1 Axes>"
      ]
     },
     "metadata": {
      "needs_background": "light"
     }
    }
   ],
   "metadata": {}
  },
  {
   "cell_type": "markdown",
   "source": [
    "# Kmeans When K=4"
   ],
   "metadata": {}
  },
  {
   "cell_type": "code",
   "execution_count": 8,
   "source": [
    "# Bulding the model by considering K = 4\r\n",
    "clusters_kmeans_4 = KMeans(4,random_state=42)\r\n",
    "clusters_kmeans_4 = clusters_kmeans_4.fit(crime_std)\r\n",
    "clusters_kmeans_4.labels_"
   ],
   "outputs": [
    {
     "output_type": "execute_result",
     "data": {
      "text/plain": [
       "array([1, 2, 2, 1, 2, 2, 0, 0, 2, 1, 0, 3, 2, 0, 3, 0, 3, 1, 3, 2, 0, 2,\n",
       "       3, 1, 2, 3, 3, 2, 3, 0, 2, 2, 1, 3, 0, 0, 0, 0, 0, 1, 3, 1, 2, 0,\n",
       "       3, 0, 0, 3, 3, 0])"
      ]
     },
     "metadata": {},
     "execution_count": 8
    }
   ],
   "metadata": {}
  },
  {
   "cell_type": "code",
   "execution_count": 9,
   "source": [
    "crime_data[\"KMeans_4\"] = clusters_kmeans_4.labels_\r\n",
    "crime_data.head()"
   ],
   "outputs": [
    {
     "output_type": "execute_result",
     "data": {
      "text/html": [
       "<div>\n",
       "<style scoped>\n",
       "    .dataframe tbody tr th:only-of-type {\n",
       "        vertical-align: middle;\n",
       "    }\n",
       "\n",
       "    .dataframe tbody tr th {\n",
       "        vertical-align: top;\n",
       "    }\n",
       "\n",
       "    .dataframe thead th {\n",
       "        text-align: right;\n",
       "    }\n",
       "</style>\n",
       "<table border=\"1\" class=\"dataframe\">\n",
       "  <thead>\n",
       "    <tr style=\"text-align: right;\">\n",
       "      <th></th>\n",
       "      <th>Murder</th>\n",
       "      <th>Assault</th>\n",
       "      <th>UrbanPop</th>\n",
       "      <th>Rape</th>\n",
       "      <th>KMeans_4</th>\n",
       "    </tr>\n",
       "  </thead>\n",
       "  <tbody>\n",
       "    <tr>\n",
       "      <th>0</th>\n",
       "      <td>13.2</td>\n",
       "      <td>236</td>\n",
       "      <td>58</td>\n",
       "      <td>21.2</td>\n",
       "      <td>1</td>\n",
       "    </tr>\n",
       "    <tr>\n",
       "      <th>1</th>\n",
       "      <td>10.0</td>\n",
       "      <td>263</td>\n",
       "      <td>48</td>\n",
       "      <td>44.5</td>\n",
       "      <td>2</td>\n",
       "    </tr>\n",
       "    <tr>\n",
       "      <th>2</th>\n",
       "      <td>8.1</td>\n",
       "      <td>294</td>\n",
       "      <td>80</td>\n",
       "      <td>31.0</td>\n",
       "      <td>2</td>\n",
       "    </tr>\n",
       "    <tr>\n",
       "      <th>3</th>\n",
       "      <td>8.8</td>\n",
       "      <td>190</td>\n",
       "      <td>50</td>\n",
       "      <td>19.5</td>\n",
       "      <td>1</td>\n",
       "    </tr>\n",
       "    <tr>\n",
       "      <th>4</th>\n",
       "      <td>9.0</td>\n",
       "      <td>276</td>\n",
       "      <td>91</td>\n",
       "      <td>40.6</td>\n",
       "      <td>2</td>\n",
       "    </tr>\n",
       "  </tbody>\n",
       "</table>\n",
       "</div>"
      ],
      "text/plain": [
       "   Murder  Assault  UrbanPop  Rape  KMeans_4\n",
       "0    13.2      236        58  21.2         1\n",
       "1    10.0      263        48  44.5         2\n",
       "2     8.1      294        80  31.0         2\n",
       "3     8.8      190        50  19.5         1\n",
       "4     9.0      276        91  40.6         2"
      ]
     },
     "metadata": {},
     "execution_count": 9
    }
   ],
   "metadata": {}
  },
  {
   "cell_type": "code",
   "execution_count": 10,
   "source": [
    "crime_data.groupby(\"KMeans_4\").agg((\"mean\"))"
   ],
   "outputs": [
    {
     "output_type": "execute_result",
     "data": {
      "text/html": [
       "<div>\n",
       "<style scoped>\n",
       "    .dataframe tbody tr th:only-of-type {\n",
       "        vertical-align: middle;\n",
       "    }\n",
       "\n",
       "    .dataframe tbody tr th {\n",
       "        vertical-align: top;\n",
       "    }\n",
       "\n",
       "    .dataframe thead th {\n",
       "        text-align: right;\n",
       "    }\n",
       "</style>\n",
       "<table border=\"1\" class=\"dataframe\">\n",
       "  <thead>\n",
       "    <tr style=\"text-align: right;\">\n",
       "      <th></th>\n",
       "      <th>Murder</th>\n",
       "      <th>Assault</th>\n",
       "      <th>UrbanPop</th>\n",
       "      <th>Rape</th>\n",
       "    </tr>\n",
       "    <tr>\n",
       "      <th>KMeans_4</th>\n",
       "      <th></th>\n",
       "      <th></th>\n",
       "      <th></th>\n",
       "      <th></th>\n",
       "    </tr>\n",
       "  </thead>\n",
       "  <tbody>\n",
       "    <tr>\n",
       "      <th>0</th>\n",
       "      <td>5.656250</td>\n",
       "      <td>138.875000</td>\n",
       "      <td>73.875000</td>\n",
       "      <td>18.781250</td>\n",
       "    </tr>\n",
       "    <tr>\n",
       "      <th>1</th>\n",
       "      <td>13.937500</td>\n",
       "      <td>243.625000</td>\n",
       "      <td>53.750000</td>\n",
       "      <td>21.412500</td>\n",
       "    </tr>\n",
       "    <tr>\n",
       "      <th>2</th>\n",
       "      <td>10.815385</td>\n",
       "      <td>257.384615</td>\n",
       "      <td>76.000000</td>\n",
       "      <td>33.192308</td>\n",
       "    </tr>\n",
       "    <tr>\n",
       "      <th>3</th>\n",
       "      <td>3.600000</td>\n",
       "      <td>78.538462</td>\n",
       "      <td>52.076923</td>\n",
       "      <td>12.176923</td>\n",
       "    </tr>\n",
       "  </tbody>\n",
       "</table>\n",
       "</div>"
      ],
      "text/plain": [
       "             Murder     Assault   UrbanPop       Rape\n",
       "KMeans_4                                             \n",
       "0          5.656250  138.875000  73.875000  18.781250\n",
       "1         13.937500  243.625000  53.750000  21.412500\n",
       "2         10.815385  257.384615  76.000000  33.192308\n",
       "3          3.600000   78.538462  52.076923  12.176923"
      ]
     },
     "metadata": {},
     "execution_count": 10
    }
   ],
   "metadata": {}
  },
  {
   "cell_type": "code",
   "execution_count": 11,
   "source": [
    "for i in range(0,4):\r\n",
    "    # plt.grid( )\r\n",
    "    sns.barplot(y=crime_data.iloc[:,i] ,x=crime_data[\"KMeans_4\"])\r\n",
    "    plt.xlabel(\"Clusters\")\r\n",
    "    plt.ylabel(crime_data.columns[i])\r\n",
    "    plt.title(f\"{crime_data.columns[i]} Vs Clusters(k=4)\")\r\n",
    "    plt.show()\r\n",
    "    "
   ],
   "outputs": [
    {
     "output_type": "display_data",
     "data": {
      "image/png": "[encoded data removed]",
      "text/plain": [
       "<Figure size 432x288 with 1 Axes>"
      ]
     },
     "metadata": {
      "needs_background": "light"
     }
    },
    {
     "output_type": "display_data",
     "data": {
      "image/png": "[encoded data removed]",
      "text/plain": [
       "<Figure size 432x288 with 1 Axes>"
      ]
     },
     "metadata": {
      "needs_background": "light"
     }
    },
    {
     "output_type": "display_data",
     "data": {
      "image/png": "[encoded data removed]",
      "text/plain": [
       "<Figure size 432x288 with 1 Axes>"
      ]
     },
     "metadata": {
      "needs_background": "light"
     }
    },
    {
     "output_type": "display_data",
     "data": {
      "image/png": "[encoded data removed]",
      "text/plain": [
       "<Figure size 432x288 with 1 Axes>"
      ]
     },
     "metadata": {
      "needs_background": "light"
     }
    }
   ],
   "metadata": {}
  },
  {
   "cell_type": "markdown",
   "source": [
    "# Kmeans when K=3"
   ],
   "metadata": {}
  },
  {
   "cell_type": "code",
   "execution_count": 12,
   "source": [
    "# Bulding the model by considering K = 3\r\n",
    "clusters_kmeans_3 = KMeans(3,random_state=42)\r\n",
    "clusters_kmeans_3 = clusters_kmeans_3.fit(crime_std)\r\n",
    "clusters_kmeans_3.labels_"
   ],
   "outputs": [
    {
     "output_type": "execute_result",
     "data": {
      "text/plain": [
       "array([1, 1, 1, 2, 1, 1, 0, 0, 1, 1, 0, 2, 1, 0, 2, 0, 2, 1, 2, 1, 0, 1,\n",
       "       2, 1, 1, 2, 2, 1, 2, 0, 1, 1, 1, 2, 0, 0, 0, 0, 0, 1, 2, 1, 1, 0,\n",
       "       2, 0, 0, 2, 2, 0])"
      ]
     },
     "metadata": {},
     "execution_count": 12
    }
   ],
   "metadata": {}
  },
  {
   "cell_type": "code",
   "execution_count": 13,
   "source": [
    "crime_data[\"KMeans_3\"] = clusters_kmeans_3.labels_\r\n",
    "crime_data.head()"
   ],
   "outputs": [
    {
     "output_type": "execute_result",
     "data": {
      "text/html": [
       "<div>\n",
       "<style scoped>\n",
       "    .dataframe tbody tr th:only-of-type {\n",
       "        vertical-align: middle;\n",
       "    }\n",
       "\n",
       "    .dataframe tbody tr th {\n",
       "        vertical-align: top;\n",
       "    }\n",
       "\n",
       "    .dataframe thead th {\n",
       "        text-align: right;\n",
       "    }\n",
       "</style>\n",
       "<table border=\"1\" class=\"dataframe\">\n",
       "  <thead>\n",
       "    <tr style=\"text-align: right;\">\n",
       "      <th></th>\n",
       "      <th>Murder</th>\n",
       "      <th>Assault</th>\n",
       "      <th>UrbanPop</th>\n",
       "      <th>Rape</th>\n",
       "      <th>KMeans_4</th>\n",
       "      <th>KMeans_3</th>\n",
       "    </tr>\n",
       "  </thead>\n",
       "  <tbody>\n",
       "    <tr>\n",
       "      <th>0</th>\n",
       "      <td>13.2</td>\n",
       "      <td>236</td>\n",
       "      <td>58</td>\n",
       "      <td>21.2</td>\n",
       "      <td>1</td>\n",
       "      <td>1</td>\n",
       "    </tr>\n",
       "    <tr>\n",
       "      <th>1</th>\n",
       "      <td>10.0</td>\n",
       "      <td>263</td>\n",
       "      <td>48</td>\n",
       "      <td>44.5</td>\n",
       "      <td>2</td>\n",
       "      <td>1</td>\n",
       "    </tr>\n",
       "    <tr>\n",
       "      <th>2</th>\n",
       "      <td>8.1</td>\n",
       "      <td>294</td>\n",
       "      <td>80</td>\n",
       "      <td>31.0</td>\n",
       "      <td>2</td>\n",
       "      <td>1</td>\n",
       "    </tr>\n",
       "    <tr>\n",
       "      <th>3</th>\n",
       "      <td>8.8</td>\n",
       "      <td>190</td>\n",
       "      <td>50</td>\n",
       "      <td>19.5</td>\n",
       "      <td>1</td>\n",
       "      <td>2</td>\n",
       "    </tr>\n",
       "    <tr>\n",
       "      <th>4</th>\n",
       "      <td>9.0</td>\n",
       "      <td>276</td>\n",
       "      <td>91</td>\n",
       "      <td>40.6</td>\n",
       "      <td>2</td>\n",
       "      <td>1</td>\n",
       "    </tr>\n",
       "  </tbody>\n",
       "</table>\n",
       "</div>"
      ],
      "text/plain": [
       "   Murder  Assault  UrbanPop  Rape  KMeans_4  KMeans_3\n",
       "0    13.2      236        58  21.2         1         1\n",
       "1    10.0      263        48  44.5         2         1\n",
       "2     8.1      294        80  31.0         2         1\n",
       "3     8.8      190        50  19.5         1         2\n",
       "4     9.0      276        91  40.6         2         1"
      ]
     },
     "metadata": {},
     "execution_count": 13
    }
   ],
   "metadata": {}
  },
  {
   "cell_type": "code",
   "execution_count": 14,
   "source": [
    "crime_data.groupby(\"KMeans_3\").agg((\"mean\"))"
   ],
   "outputs": [
    {
     "output_type": "execute_result",
     "data": {
      "text/html": [
       "<div>\n",
       "<style scoped>\n",
       "    .dataframe tbody tr th:only-of-type {\n",
       "        vertical-align: middle;\n",
       "    }\n",
       "\n",
       "    .dataframe tbody tr th {\n",
       "        vertical-align: top;\n",
       "    }\n",
       "\n",
       "    .dataframe thead th {\n",
       "        text-align: right;\n",
       "    }\n",
       "</style>\n",
       "<table border=\"1\" class=\"dataframe\">\n",
       "  <thead>\n",
       "    <tr style=\"text-align: right;\">\n",
       "      <th></th>\n",
       "      <th>Murder</th>\n",
       "      <th>Assault</th>\n",
       "      <th>UrbanPop</th>\n",
       "      <th>Rape</th>\n",
       "      <th>KMeans_4</th>\n",
       "    </tr>\n",
       "    <tr>\n",
       "      <th>KMeans_3</th>\n",
       "      <th></th>\n",
       "      <th></th>\n",
       "      <th></th>\n",
       "      <th></th>\n",
       "      <th></th>\n",
       "    </tr>\n",
       "  </thead>\n",
       "  <tbody>\n",
       "    <tr>\n",
       "      <th>0</th>\n",
       "      <td>5.656250</td>\n",
       "      <td>138.875</td>\n",
       "      <td>73.875000</td>\n",
       "      <td>18.78125</td>\n",
       "      <td>0.000000</td>\n",
       "    </tr>\n",
       "    <tr>\n",
       "      <th>1</th>\n",
       "      <td>12.165000</td>\n",
       "      <td>255.250</td>\n",
       "      <td>68.400000</td>\n",
       "      <td>29.16500</td>\n",
       "      <td>1.650000</td>\n",
       "    </tr>\n",
       "    <tr>\n",
       "      <th>2</th>\n",
       "      <td>3.971429</td>\n",
       "      <td>86.500</td>\n",
       "      <td>51.928571</td>\n",
       "      <td>12.70000</td>\n",
       "      <td>2.857143</td>\n",
       "    </tr>\n",
       "  </tbody>\n",
       "</table>\n",
       "</div>"
      ],
      "text/plain": [
       "             Murder  Assault   UrbanPop      Rape  KMeans_4\n",
       "KMeans_3                                                   \n",
       "0          5.656250  138.875  73.875000  18.78125  0.000000\n",
       "1         12.165000  255.250  68.400000  29.16500  1.650000\n",
       "2          3.971429   86.500  51.928571  12.70000  2.857143"
      ]
     },
     "metadata": {},
     "execution_count": 14
    }
   ],
   "metadata": {}
  },
  {
   "cell_type": "code",
   "execution_count": 15,
   "source": [
    "crime_data.groupby(\"KMeans_4\").agg((\"mean\"))"
   ],
   "outputs": [
    {
     "output_type": "execute_result",
     "data": {
      "text/html": [
       "<div>\n",
       "<style scoped>\n",
       "    .dataframe tbody tr th:only-of-type {\n",
       "        vertical-align: middle;\n",
       "    }\n",
       "\n",
       "    .dataframe tbody tr th {\n",
       "        vertical-align: top;\n",
       "    }\n",
       "\n",
       "    .dataframe thead th {\n",
       "        text-align: right;\n",
       "    }\n",
       "</style>\n",
       "<table border=\"1\" class=\"dataframe\">\n",
       "  <thead>\n",
       "    <tr style=\"text-align: right;\">\n",
       "      <th></th>\n",
       "      <th>Murder</th>\n",
       "      <th>Assault</th>\n",
       "      <th>UrbanPop</th>\n",
       "      <th>Rape</th>\n",
       "      <th>KMeans_3</th>\n",
       "    </tr>\n",
       "    <tr>\n",
       "      <th>KMeans_4</th>\n",
       "      <th></th>\n",
       "      <th></th>\n",
       "      <th></th>\n",
       "      <th></th>\n",
       "      <th></th>\n",
       "    </tr>\n",
       "  </thead>\n",
       "  <tbody>\n",
       "    <tr>\n",
       "      <th>0</th>\n",
       "      <td>5.656250</td>\n",
       "      <td>138.875000</td>\n",
       "      <td>73.875000</td>\n",
       "      <td>18.781250</td>\n",
       "      <td>0.000</td>\n",
       "    </tr>\n",
       "    <tr>\n",
       "      <th>1</th>\n",
       "      <td>13.937500</td>\n",
       "      <td>243.625000</td>\n",
       "      <td>53.750000</td>\n",
       "      <td>21.412500</td>\n",
       "      <td>1.125</td>\n",
       "    </tr>\n",
       "    <tr>\n",
       "      <th>2</th>\n",
       "      <td>10.815385</td>\n",
       "      <td>257.384615</td>\n",
       "      <td>76.000000</td>\n",
       "      <td>33.192308</td>\n",
       "      <td>1.000</td>\n",
       "    </tr>\n",
       "    <tr>\n",
       "      <th>3</th>\n",
       "      <td>3.600000</td>\n",
       "      <td>78.538462</td>\n",
       "      <td>52.076923</td>\n",
       "      <td>12.176923</td>\n",
       "      <td>2.000</td>\n",
       "    </tr>\n",
       "  </tbody>\n",
       "</table>\n",
       "</div>"
      ],
      "text/plain": [
       "             Murder     Assault   UrbanPop       Rape  KMeans_3\n",
       "KMeans_4                                                       \n",
       "0          5.656250  138.875000  73.875000  18.781250     0.000\n",
       "1         13.937500  243.625000  53.750000  21.412500     1.125\n",
       "2         10.815385  257.384615  76.000000  33.192308     1.000\n",
       "3          3.600000   78.538462  52.076923  12.176923     2.000"
      ]
     },
     "metadata": {},
     "execution_count": 15
    }
   ],
   "metadata": {}
  },
  {
   "cell_type": "code",
   "execution_count": 16,
   "source": [
    "for i in range(0,4):\r\n",
    "    plt.figure(figsize=(5,5))\r\n",
    "    sns.barplot(y=crime_data.iloc[:,i],x=crime_data[\"KMeans_3\"])\r\n",
    "    plt.xlabel(\"Clusters\")\r\n",
    "    plt.ylabel(crime_data.columns[i])\r\n",
    "    plt.title(f\"{crime_data.columns[i]} Vs Clusters(K=3)\")\r\n",
    "    plt.show()"
   ],
   "outputs": [
    {
     "output_type": "display_data",
     "data": {
      "image/png": "[encoded data removed]",
      "text/plain": [
       "<Figure size 360x360 with 1 Axes>"
      ]
     },
     "metadata": {
      "needs_background": "light"
     }
    },
    {
     "output_type": "display_data",
     "data": {
      "image/png": "[encoded data removed]",
      "text/plain": [
       "<Figure size 360x360 with 1 Axes>"
      ]
     },
     "metadata": {
      "needs_background": "light"
     }
    },
    {
     "output_type": "display_data",
     "data": {
      "image/png": "[encoded data removed]",
      "text/plain": [
       "<Figure size 360x360 with 1 Axes>"
      ]
     },
     "metadata": {
      "needs_background": "light"
     }
    },
    {
     "output_type": "display_data",
     "data": {
      "image/png": "[encoded data removed]",
      "text/plain": [
       "<Figure size 360x360 with 1 Axes>"
      ]
     },
     "metadata": {
      "needs_background": "light"
     }
    }
   ],
   "metadata": {}
  },
  {
   "cell_type": "markdown",
   "source": [
    "# Hirarchical Clustering"
   ],
   "metadata": {}
  },
  {
   "cell_type": "code",
   "execution_count": 17,
   "source": [
    "import scipy.cluster.hierarchy as sch"
   ],
   "outputs": [],
   "metadata": {}
  },
  {
   "cell_type": "code",
   "execution_count": 18,
   "source": [
    "crime_data.head()"
   ],
   "outputs": [
    {
     "output_type": "execute_result",
     "data": {
      "text/html": [
       "<div>\n",
       "<style scoped>\n",
       "    .dataframe tbody tr th:only-of-type {\n",
       "        vertical-align: middle;\n",
       "    }\n",
       "\n",
       "    .dataframe tbody tr th {\n",
       "        vertical-align: top;\n",
       "    }\n",
       "\n",
       "    .dataframe thead th {\n",
       "        text-align: right;\n",
       "    }\n",
       "</style>\n",
       "<table border=\"1\" class=\"dataframe\">\n",
       "  <thead>\n",
       "    <tr style=\"text-align: right;\">\n",
       "      <th></th>\n",
       "      <th>Murder</th>\n",
       "      <th>Assault</th>\n",
       "      <th>UrbanPop</th>\n",
       "      <th>Rape</th>\n",
       "      <th>KMeans_4</th>\n",
       "      <th>KMeans_3</th>\n",
       "    </tr>\n",
       "  </thead>\n",
       "  <tbody>\n",
       "    <tr>\n",
       "      <th>0</th>\n",
       "      <td>13.2</td>\n",
       "      <td>236</td>\n",
       "      <td>58</td>\n",
       "      <td>21.2</td>\n",
       "      <td>1</td>\n",
       "      <td>1</td>\n",
       "    </tr>\n",
       "    <tr>\n",
       "      <th>1</th>\n",
       "      <td>10.0</td>\n",
       "      <td>263</td>\n",
       "      <td>48</td>\n",
       "      <td>44.5</td>\n",
       "      <td>2</td>\n",
       "      <td>1</td>\n",
       "    </tr>\n",
       "    <tr>\n",
       "      <th>2</th>\n",
       "      <td>8.1</td>\n",
       "      <td>294</td>\n",
       "      <td>80</td>\n",
       "      <td>31.0</td>\n",
       "      <td>2</td>\n",
       "      <td>1</td>\n",
       "    </tr>\n",
       "    <tr>\n",
       "      <th>3</th>\n",
       "      <td>8.8</td>\n",
       "      <td>190</td>\n",
       "      <td>50</td>\n",
       "      <td>19.5</td>\n",
       "      <td>1</td>\n",
       "      <td>2</td>\n",
       "    </tr>\n",
       "    <tr>\n",
       "      <th>4</th>\n",
       "      <td>9.0</td>\n",
       "      <td>276</td>\n",
       "      <td>91</td>\n",
       "      <td>40.6</td>\n",
       "      <td>2</td>\n",
       "      <td>1</td>\n",
       "    </tr>\n",
       "  </tbody>\n",
       "</table>\n",
       "</div>"
      ],
      "text/plain": [
       "   Murder  Assault  UrbanPop  Rape  KMeans_4  KMeans_3\n",
       "0    13.2      236        58  21.2         1         1\n",
       "1    10.0      263        48  44.5         2         1\n",
       "2     8.1      294        80  31.0         2         1\n",
       "3     8.8      190        50  19.5         1         2\n",
       "4     9.0      276        91  40.6         2         1"
      ]
     },
     "metadata": {},
     "execution_count": 18
    }
   ],
   "metadata": {}
  },
  {
   "cell_type": "code",
   "execution_count": 19,
   "source": [
    "#Scaling the data by normalizing \r\n",
    "def normalize(i):\r\n",
    "    x = (i-i.min())/(i.max()-i.min())\r\n",
    "    return x\r\n",
    "\r\n",
    "crime_data_nor = normalize(crime_data.iloc[:,:4])\r\n",
    "crime_data_nor"
   ],
   "outputs": [
    {
     "output_type": "execute_result",
     "data": {
      "text/html": [
       "<div>\n",
       "<style scoped>\n",
       "    .dataframe tbody tr th:only-of-type {\n",
       "        vertical-align: middle;\n",
       "    }\n",
       "\n",
       "    .dataframe tbody tr th {\n",
       "        vertical-align: top;\n",
       "    }\n",
       "\n",
       "    .dataframe thead th {\n",
       "        text-align: right;\n",
       "    }\n",
       "</style>\n",
       "<table border=\"1\" class=\"dataframe\">\n",
       "  <thead>\n",
       "    <tr style=\"text-align: right;\">\n",
       "      <th></th>\n",
       "      <th>Murder</th>\n",
       "      <th>Assault</th>\n",
       "      <th>UrbanPop</th>\n",
       "      <th>Rape</th>\n",
       "    </tr>\n",
       "  </thead>\n",
       "  <tbody>\n",
       "    <tr>\n",
       "      <th>0</th>\n",
       "      <td>0.746988</td>\n",
       "      <td>0.654110</td>\n",
       "      <td>0.440678</td>\n",
       "      <td>0.359173</td>\n",
       "    </tr>\n",
       "    <tr>\n",
       "      <th>1</th>\n",
       "      <td>0.554217</td>\n",
       "      <td>0.746575</td>\n",
       "      <td>0.271186</td>\n",
       "      <td>0.961240</td>\n",
       "    </tr>\n",
       "    <tr>\n",
       "      <th>2</th>\n",
       "      <td>0.439759</td>\n",
       "      <td>0.852740</td>\n",
       "      <td>0.813559</td>\n",
       "      <td>0.612403</td>\n",
       "    </tr>\n",
       "    <tr>\n",
       "      <th>3</th>\n",
       "      <td>0.481928</td>\n",
       "      <td>0.496575</td>\n",
       "      <td>0.305085</td>\n",
       "      <td>0.315245</td>\n",
       "    </tr>\n",
       "    <tr>\n",
       "      <th>4</th>\n",
       "      <td>0.493976</td>\n",
       "      <td>0.791096</td>\n",
       "      <td>1.000000</td>\n",
       "      <td>0.860465</td>\n",
       "    </tr>\n",
       "    <tr>\n",
       "      <th>5</th>\n",
       "      <td>0.427711</td>\n",
       "      <td>0.544521</td>\n",
       "      <td>0.779661</td>\n",
       "      <td>0.811370</td>\n",
       "    </tr>\n",
       "    <tr>\n",
       "      <th>6</th>\n",
       "      <td>0.150602</td>\n",
       "      <td>0.222603</td>\n",
       "      <td>0.762712</td>\n",
       "      <td>0.098191</td>\n",
       "    </tr>\n",
       "    <tr>\n",
       "      <th>7</th>\n",
       "      <td>0.307229</td>\n",
       "      <td>0.660959</td>\n",
       "      <td>0.677966</td>\n",
       "      <td>0.219638</td>\n",
       "    </tr>\n",
       "    <tr>\n",
       "      <th>8</th>\n",
       "      <td>0.879518</td>\n",
       "      <td>0.993151</td>\n",
       "      <td>0.813559</td>\n",
       "      <td>0.635659</td>\n",
       "    </tr>\n",
       "    <tr>\n",
       "      <th>9</th>\n",
       "      <td>1.000000</td>\n",
       "      <td>0.568493</td>\n",
       "      <td>0.474576</td>\n",
       "      <td>0.478036</td>\n",
       "    </tr>\n",
       "    <tr>\n",
       "      <th>10</th>\n",
       "      <td>0.271084</td>\n",
       "      <td>0.003425</td>\n",
       "      <td>0.864407</td>\n",
       "      <td>0.333333</td>\n",
       "    </tr>\n",
       "    <tr>\n",
       "      <th>11</th>\n",
       "      <td>0.108434</td>\n",
       "      <td>0.256849</td>\n",
       "      <td>0.372881</td>\n",
       "      <td>0.178295</td>\n",
       "    </tr>\n",
       "    <tr>\n",
       "      <th>12</th>\n",
       "      <td>0.578313</td>\n",
       "      <td>0.698630</td>\n",
       "      <td>0.864407</td>\n",
       "      <td>0.431525</td>\n",
       "    </tr>\n",
       "    <tr>\n",
       "      <th>13</th>\n",
       "      <td>0.385542</td>\n",
       "      <td>0.232877</td>\n",
       "      <td>0.559322</td>\n",
       "      <td>0.354005</td>\n",
       "    </tr>\n",
       "    <tr>\n",
       "      <th>14</th>\n",
       "      <td>0.084337</td>\n",
       "      <td>0.037671</td>\n",
       "      <td>0.423729</td>\n",
       "      <td>0.103359</td>\n",
       "    </tr>\n",
       "    <tr>\n",
       "      <th>15</th>\n",
       "      <td>0.313253</td>\n",
       "      <td>0.239726</td>\n",
       "      <td>0.576271</td>\n",
       "      <td>0.276486</td>\n",
       "    </tr>\n",
       "    <tr>\n",
       "      <th>16</th>\n",
       "      <td>0.536145</td>\n",
       "      <td>0.219178</td>\n",
       "      <td>0.338983</td>\n",
       "      <td>0.232558</td>\n",
       "    </tr>\n",
       "    <tr>\n",
       "      <th>17</th>\n",
       "      <td>0.879518</td>\n",
       "      <td>0.698630</td>\n",
       "      <td>0.576271</td>\n",
       "      <td>0.385013</td>\n",
       "    </tr>\n",
       "    <tr>\n",
       "      <th>18</th>\n",
       "      <td>0.078313</td>\n",
       "      <td>0.130137</td>\n",
       "      <td>0.322034</td>\n",
       "      <td>0.012920</td>\n",
       "    </tr>\n",
       "    <tr>\n",
       "      <th>19</th>\n",
       "      <td>0.632530</td>\n",
       "      <td>0.873288</td>\n",
       "      <td>0.593220</td>\n",
       "      <td>0.529716</td>\n",
       "    </tr>\n",
       "    <tr>\n",
       "      <th>20</th>\n",
       "      <td>0.216867</td>\n",
       "      <td>0.356164</td>\n",
       "      <td>0.898305</td>\n",
       "      <td>0.232558</td>\n",
       "    </tr>\n",
       "    <tr>\n",
       "      <th>21</th>\n",
       "      <td>0.680723</td>\n",
       "      <td>0.719178</td>\n",
       "      <td>0.711864</td>\n",
       "      <td>0.718346</td>\n",
       "    </tr>\n",
       "    <tr>\n",
       "      <th>22</th>\n",
       "      <td>0.114458</td>\n",
       "      <td>0.092466</td>\n",
       "      <td>0.576271</td>\n",
       "      <td>0.196382</td>\n",
       "    </tr>\n",
       "    <tr>\n",
       "      <th>23</th>\n",
       "      <td>0.921687</td>\n",
       "      <td>0.732877</td>\n",
       "      <td>0.203390</td>\n",
       "      <td>0.253230</td>\n",
       "    </tr>\n",
       "    <tr>\n",
       "      <th>24</th>\n",
       "      <td>0.493976</td>\n",
       "      <td>0.455479</td>\n",
       "      <td>0.644068</td>\n",
       "      <td>0.540052</td>\n",
       "    </tr>\n",
       "    <tr>\n",
       "      <th>25</th>\n",
       "      <td>0.313253</td>\n",
       "      <td>0.219178</td>\n",
       "      <td>0.355932</td>\n",
       "      <td>0.235142</td>\n",
       "    </tr>\n",
       "    <tr>\n",
       "      <th>26</th>\n",
       "      <td>0.210843</td>\n",
       "      <td>0.195205</td>\n",
       "      <td>0.508475</td>\n",
       "      <td>0.237726</td>\n",
       "    </tr>\n",
       "    <tr>\n",
       "      <th>27</th>\n",
       "      <td>0.686747</td>\n",
       "      <td>0.708904</td>\n",
       "      <td>0.830508</td>\n",
       "      <td>1.000000</td>\n",
       "    </tr>\n",
       "    <tr>\n",
       "      <th>28</th>\n",
       "      <td>0.078313</td>\n",
       "      <td>0.041096</td>\n",
       "      <td>0.406780</td>\n",
       "      <td>0.056848</td>\n",
       "    </tr>\n",
       "    <tr>\n",
       "      <th>29</th>\n",
       "      <td>0.397590</td>\n",
       "      <td>0.390411</td>\n",
       "      <td>0.966102</td>\n",
       "      <td>0.297158</td>\n",
       "    </tr>\n",
       "    <tr>\n",
       "      <th>30</th>\n",
       "      <td>0.638554</td>\n",
       "      <td>0.821918</td>\n",
       "      <td>0.644068</td>\n",
       "      <td>0.640827</td>\n",
       "    </tr>\n",
       "    <tr>\n",
       "      <th>31</th>\n",
       "      <td>0.620482</td>\n",
       "      <td>0.715753</td>\n",
       "      <td>0.915254</td>\n",
       "      <td>0.485788</td>\n",
       "    </tr>\n",
       "    <tr>\n",
       "      <th>32</th>\n",
       "      <td>0.734940</td>\n",
       "      <td>1.000000</td>\n",
       "      <td>0.220339</td>\n",
       "      <td>0.227390</td>\n",
       "    </tr>\n",
       "    <tr>\n",
       "      <th>33</th>\n",
       "      <td>0.000000</td>\n",
       "      <td>0.000000</td>\n",
       "      <td>0.203390</td>\n",
       "      <td>0.000000</td>\n",
       "    </tr>\n",
       "    <tr>\n",
       "      <th>34</th>\n",
       "      <td>0.391566</td>\n",
       "      <td>0.256849</td>\n",
       "      <td>0.728814</td>\n",
       "      <td>0.364341</td>\n",
       "    </tr>\n",
       "    <tr>\n",
       "      <th>35</th>\n",
       "      <td>0.349398</td>\n",
       "      <td>0.363014</td>\n",
       "      <td>0.610169</td>\n",
       "      <td>0.328165</td>\n",
       "    </tr>\n",
       "    <tr>\n",
       "      <th>36</th>\n",
       "      <td>0.246988</td>\n",
       "      <td>0.390411</td>\n",
       "      <td>0.593220</td>\n",
       "      <td>0.568475</td>\n",
       "    </tr>\n",
       "    <tr>\n",
       "      <th>37</th>\n",
       "      <td>0.331325</td>\n",
       "      <td>0.208904</td>\n",
       "      <td>0.677966</td>\n",
       "      <td>0.196382</td>\n",
       "    </tr>\n",
       "    <tr>\n",
       "      <th>38</th>\n",
       "      <td>0.156627</td>\n",
       "      <td>0.441781</td>\n",
       "      <td>0.932203</td>\n",
       "      <td>0.025840</td>\n",
       "    </tr>\n",
       "    <tr>\n",
       "      <th>39</th>\n",
       "      <td>0.819277</td>\n",
       "      <td>0.801370</td>\n",
       "      <td>0.271186</td>\n",
       "      <td>0.392765</td>\n",
       "    </tr>\n",
       "    <tr>\n",
       "      <th>40</th>\n",
       "      <td>0.180723</td>\n",
       "      <td>0.140411</td>\n",
       "      <td>0.220339</td>\n",
       "      <td>0.142119</td>\n",
       "    </tr>\n",
       "    <tr>\n",
       "      <th>41</th>\n",
       "      <td>0.746988</td>\n",
       "      <td>0.489726</td>\n",
       "      <td>0.457627</td>\n",
       "      <td>0.506460</td>\n",
       "    </tr>\n",
       "    <tr>\n",
       "      <th>42</th>\n",
       "      <td>0.716867</td>\n",
       "      <td>0.534247</td>\n",
       "      <td>0.813559</td>\n",
       "      <td>0.470284</td>\n",
       "    </tr>\n",
       "    <tr>\n",
       "      <th>43</th>\n",
       "      <td>0.144578</td>\n",
       "      <td>0.256849</td>\n",
       "      <td>0.813559</td>\n",
       "      <td>0.403101</td>\n",
       "    </tr>\n",
       "    <tr>\n",
       "      <th>44</th>\n",
       "      <td>0.084337</td>\n",
       "      <td>0.010274</td>\n",
       "      <td>0.000000</td>\n",
       "      <td>0.100775</td>\n",
       "    </tr>\n",
       "    <tr>\n",
       "      <th>45</th>\n",
       "      <td>0.463855</td>\n",
       "      <td>0.380137</td>\n",
       "      <td>0.525424</td>\n",
       "      <td>0.346253</td>\n",
       "    </tr>\n",
       "    <tr>\n",
       "      <th>46</th>\n",
       "      <td>0.192771</td>\n",
       "      <td>0.342466</td>\n",
       "      <td>0.694915</td>\n",
       "      <td>0.488372</td>\n",
       "    </tr>\n",
       "    <tr>\n",
       "      <th>47</th>\n",
       "      <td>0.295181</td>\n",
       "      <td>0.123288</td>\n",
       "      <td>0.118644</td>\n",
       "      <td>0.051680</td>\n",
       "    </tr>\n",
       "    <tr>\n",
       "      <th>48</th>\n",
       "      <td>0.108434</td>\n",
       "      <td>0.027397</td>\n",
       "      <td>0.576271</td>\n",
       "      <td>0.090439</td>\n",
       "    </tr>\n",
       "    <tr>\n",
       "      <th>49</th>\n",
       "      <td>0.361446</td>\n",
       "      <td>0.397260</td>\n",
       "      <td>0.474576</td>\n",
       "      <td>0.214470</td>\n",
       "    </tr>\n",
       "  </tbody>\n",
       "</table>\n",
       "</div>"
      ],
      "text/plain": [
       "      Murder   Assault  UrbanPop      Rape\n",
       "0   0.746988  0.654110  0.440678  0.359173\n",
       "1   0.554217  0.746575  0.271186  0.961240\n",
       "2   0.439759  0.852740  0.813559  0.612403\n",
       "3   0.481928  0.496575  0.305085  0.315245\n",
       "4   0.493976  0.791096  1.000000  0.860465\n",
       "5   0.427711  0.544521  0.779661  0.811370\n",
       "6   0.150602  0.222603  0.762712  0.098191\n",
       "7   0.307229  0.660959  0.677966  0.219638\n",
       "8   0.879518  0.993151  0.813559  0.635659\n",
       "9   1.000000  0.568493  0.474576  0.478036\n",
       "10  0.271084  0.003425  0.864407  0.333333\n",
       "11  0.108434  0.256849  0.372881  0.178295\n",
       "12  0.578313  0.698630  0.864407  0.431525\n",
       "13  0.385542  0.232877  0.559322  0.354005\n",
       "14  0.084337  0.037671  0.423729  0.103359\n",
       "15  0.313253  0.239726  0.576271  0.276486\n",
       "16  0.536145  0.219178  0.338983  0.232558\n",
       "17  0.879518  0.698630  0.576271  0.385013\n",
       "18  0.078313  0.130137  0.322034  0.012920\n",
       "19  0.632530  0.873288  0.593220  0.529716\n",
       "20  0.216867  0.356164  0.898305  0.232558\n",
       "21  0.680723  0.719178  0.711864  0.718346\n",
       "22  0.114458  0.092466  0.576271  0.196382\n",
       "23  0.921687  0.732877  0.203390  0.253230\n",
       "24  0.493976  0.455479  0.644068  0.540052\n",
       "25  0.313253  0.219178  0.355932  0.235142\n",
       "26  0.210843  0.195205  0.508475  0.237726\n",
       "27  0.686747  0.708904  0.830508  1.000000\n",
       "28  0.078313  0.041096  0.406780  0.056848\n",
       "29  0.397590  0.390411  0.966102  0.297158\n",
       "30  0.638554  0.821918  0.644068  0.640827\n",
       "31  0.620482  0.715753  0.915254  0.485788\n",
       "32  0.734940  1.000000  0.220339  0.227390\n",
       "33  0.000000  0.000000  0.203390  0.000000\n",
       "34  0.391566  0.256849  0.728814  0.364341\n",
       "35  0.349398  0.363014  0.610169  0.328165\n",
       "36  0.246988  0.390411  0.593220  0.568475\n",
       "37  0.331325  0.208904  0.677966  0.196382\n",
       "38  0.156627  0.441781  0.932203  0.025840\n",
       "39  0.819277  0.801370  0.271186  0.392765\n",
       "40  0.180723  0.140411  0.220339  0.142119\n",
       "41  0.746988  0.489726  0.457627  0.506460\n",
       "42  0.716867  0.534247  0.813559  0.470284\n",
       "43  0.144578  0.256849  0.813559  0.403101\n",
       "44  0.084337  0.010274  0.000000  0.100775\n",
       "45  0.463855  0.380137  0.525424  0.346253\n",
       "46  0.192771  0.342466  0.694915  0.488372\n",
       "47  0.295181  0.123288  0.118644  0.051680\n",
       "48  0.108434  0.027397  0.576271  0.090439\n",
       "49  0.361446  0.397260  0.474576  0.214470"
      ]
     },
     "metadata": {},
     "execution_count": 19
    }
   ],
   "metadata": {}
  },
  {
   "cell_type": "code",
   "execution_count": 20,
   "source": [
    "crime_data.iloc[:,i]"
   ],
   "outputs": [
    {
     "output_type": "execute_result",
     "data": {
      "text/plain": [
       "0     21.2\n",
       "1     44.5\n",
       "2     31.0\n",
       "3     19.5\n",
       "4     40.6\n",
       "5     38.7\n",
       "6     11.1\n",
       "7     15.8\n",
       "8     31.9\n",
       "9     25.8\n",
       "10    20.2\n",
       "11    14.2\n",
       "12    24.0\n",
       "13    21.0\n",
       "14    11.3\n",
       "15    18.0\n",
       "16    16.3\n",
       "17    22.2\n",
       "18     7.8\n",
       "19    27.8\n",
       "20    16.3\n",
       "21    35.1\n",
       "22    14.9\n",
       "23    17.1\n",
       "24    28.2\n",
       "25    16.4\n",
       "26    16.5\n",
       "27    46.0\n",
       "28     9.5\n",
       "29    18.8\n",
       "30    32.1\n",
       "31    26.1\n",
       "32    16.1\n",
       "33     7.3\n",
       "34    21.4\n",
       "35    20.0\n",
       "36    29.3\n",
       "37    14.9\n",
       "38     8.3\n",
       "39    22.5\n",
       "40    12.8\n",
       "41    26.9\n",
       "42    25.5\n",
       "43    22.9\n",
       "44    11.2\n",
       "45    20.7\n",
       "46    26.2\n",
       "47     9.3\n",
       "48    10.8\n",
       "49    15.6\n",
       "Name: Rape, dtype: float64"
      ]
     },
     "metadata": {},
     "execution_count": 20
    }
   ],
   "metadata": {}
  },
  {
   "cell_type": "code",
   "execution_count": 21,
   "source": [
    "sch.linkage(crime_data_nor,method=\"complete\") \r\n",
    "# methods \r\n",
    "# Single(closest dist btw  pts)\r\n",
    "# complete(farest dist btw pts),\r\n",
    "# avarage(Avarage dist btw pt)\r\n",
    "# centroid(dist btw centroids)"
   ],
   "outputs": [
    {
     "output_type": "execute_result",
     "data": {
      "text/plain": [
       "array([[1.40000000e+01, 2.80000000e+01, 4.99862313e-02, 2.00000000e+00],\n",
       "       [1.20000000e+01, 3.10000000e+01, 8.71860232e-02, 2.00000000e+00],\n",
       "       [1.30000000e+01, 1.50000000e+01, 1.07560045e-01, 2.00000000e+00],\n",
       "       [2.20000000e+01, 4.80000000e+01, 1.24475500e-01, 2.00000000e+00],\n",
       "       [1.90000000e+01, 3.00000000e+01, 1.32688717e-01, 2.00000000e+00],\n",
       "       [3.50000000e+01, 4.50000000e+01, 1.44578065e-01, 2.00000000e+00],\n",
       "       [3.60000000e+01, 4.60000000e+01, 1.48312560e-01, 2.00000000e+00],\n",
       "       [1.80000000e+01, 5.00000000e+01, 1.64643019e-01, 3.00000000e+00],\n",
       "       [4.00000000e+01, 4.70000000e+01, 1.78647476e-01, 2.00000000e+00],\n",
       "       [4.90000000e+01, 5.50000000e+01, 1.80637986e-01, 3.00000000e+00],\n",
       "       [2.50000000e+01, 2.60000000e+01, 1.85305888e-01, 2.00000000e+00],\n",
       "       [3.40000000e+01, 3.70000000e+01, 1.91633219e-01, 2.00000000e+00],\n",
       "       [0.00000000e+00, 1.70000000e+01, 1.96467627e-01, 2.00000000e+00],\n",
       "       [2.30000000e+01, 3.90000000e+01, 1.98104543e-01, 2.00000000e+00],\n",
       "       [5.20000000e+01, 6.10000000e+01, 2.05998779e-01, 4.00000000e+00],\n",
       "       [2.00000000e+01, 2.90000000e+01, 2.06405099e-01, 2.00000000e+00],\n",
       "       [1.10000000e+01, 6.00000000e+01, 2.16538623e-01, 3.00000000e+00],\n",
       "       [4.20000000e+01, 5.10000000e+01, 2.29819788e-01, 3.00000000e+00],\n",
       "       [3.30000000e+01, 4.40000000e+01, 2.42366264e-01, 2.00000000e+00],\n",
       "       [9.00000000e+00, 4.10000000e+01, 2.67047825e-01, 2.00000000e+00],\n",
       "       [6.00000000e+00, 5.30000000e+01, 2.73319585e-01, 3.00000000e+00],\n",
       "       [2.10000000e+01, 5.40000000e+01, 2.75191180e-01, 3.00000000e+00],\n",
       "       [1.00000000e+01, 4.30000000e+01, 2.96109424e-01, 2.00000000e+00],\n",
       "       [3.00000000e+00, 1.60000000e+01, 2.96437177e-01, 2.00000000e+00],\n",
       "       [6.20000000e+01, 6.90000000e+01, 3.00051588e-01, 4.00000000e+00],\n",
       "       [4.00000000e+00, 2.70000000e+01, 3.03502126e-01, 2.00000000e+00],\n",
       "       [2.00000000e+00, 7.10000000e+01, 3.12198814e-01, 4.00000000e+00],\n",
       "       [5.00000000e+00, 2.40000000e+01, 3.22983376e-01, 2.00000000e+00],\n",
       "       [3.20000000e+01, 6.30000000e+01, 3.27390069e-01, 3.00000000e+00],\n",
       "       [5.90000000e+01, 6.40000000e+01, 3.28207764e-01, 7.00000000e+00],\n",
       "       [5.80000000e+01, 6.80000000e+01, 3.34938999e-01, 4.00000000e+00],\n",
       "       [5.70000000e+01, 6.60000000e+01, 3.48259065e-01, 6.00000000e+00],\n",
       "       [3.80000000e+01, 6.50000000e+01, 3.68055569e-01, 3.00000000e+00],\n",
       "       [7.00000000e+00, 8.20000000e+01, 4.15829960e-01, 4.00000000e+00],\n",
       "       [5.60000000e+01, 7.90000000e+01, 4.30920627e-01, 9.00000000e+00],\n",
       "       [6.70000000e+01, 7.60000000e+01, 4.45448922e-01, 7.00000000e+00],\n",
       "       [7.00000000e+01, 7.20000000e+01, 4.56089408e-01, 5.00000000e+00],\n",
       "       [7.70000000e+01, 8.50000000e+01, 5.13933573e-01, 9.00000000e+00],\n",
       "       [8.00000000e+00, 7.50000000e+01, 5.24182085e-01, 3.00000000e+00],\n",
       "       [7.30000000e+01, 8.40000000e+01, 5.70292660e-01, 1.10000000e+01],\n",
       "       [8.00000000e+01, 8.10000000e+01, 5.72280859e-01, 1.00000000e+01],\n",
       "       [7.40000000e+01, 7.80000000e+01, 6.28259724e-01, 7.00000000e+00],\n",
       "       [8.70000000e+01, 8.80000000e+01, 6.89638484e-01, 1.20000000e+01],\n",
       "       [8.30000000e+01, 8.60000000e+01, 6.93789893e-01, 9.00000000e+00],\n",
       "       [8.90000000e+01, 9.30000000e+01, 7.75126334e-01, 2.00000000e+01],\n",
       "       [1.00000000e+00, 9.10000000e+01, 8.00685195e-01, 8.00000000e+00],\n",
       "       [9.20000000e+01, 9.50000000e+01, 1.09071001e+00, 2.00000000e+01],\n",
       "       [9.00000000e+01, 9.40000000e+01, 1.10206630e+00, 3.00000000e+01],\n",
       "       [9.60000000e+01, 9.70000000e+01, 1.59572503e+00, 5.00000000e+01]])"
      ]
     },
     "metadata": {},
     "execution_count": 21
    }
   ],
   "metadata": {}
  },
  {
   "cell_type": "code",
   "execution_count": 22,
   "source": [
    "# create the dendogram\r\n",
    "plt.figure(figsize=(12,5)) \r\n",
    "sch.dendrogram(sch.linkage(crime_data_nor,method=\"complete\"),color_threshold=1)\r\n",
    "plt.xlabel(\"Observations\")\r\n",
    "plt.show()"
   ],
   "outputs": [
    {
     "output_type": "display_data",
     "data": {
      "image/png": "[encoded data removed]",
      "text/plain": [
       "<Figure size 864x360 with 1 Axes>"
      ]
     },
     "metadata": {
      "needs_background": "light"
     }
    }
   ],
   "metadata": {}
  },
  {
   "cell_type": "code",
   "execution_count": 23,
   "source": [
    "#To create Hierarchical clustring\r\n",
    "hierar_cluster = AgglomerativeClustering(n_clusters=4, affinity=\"euclidean\",linkage=\"complete\")\r\n",
    "hierar_cluster.fit_predict(crime_data_nor)"
   ],
   "outputs": [
    {
     "output_type": "execute_result",
     "data": {
      "text/plain": [
       "array([0, 0, 3, 1, 3, 3, 1, 1, 3, 0, 1, 2, 3, 1, 2, 1, 1, 0, 2, 3, 1, 3,\n",
       "       1, 0, 3, 2, 2, 3, 2, 1, 3, 3, 0, 2, 1, 1, 1, 1, 1, 0, 2, 0, 3, 1,\n",
       "       2, 1, 1, 2, 1, 1], dtype=int64)"
      ]
     },
     "metadata": {},
     "execution_count": 23
    }
   ],
   "metadata": {}
  },
  {
   "cell_type": "code",
   "execution_count": 24,
   "source": [
    "crime_data[\"Hierar_clusert_K(4)\"] =hierar_cluster.labels_\r\n",
    "crime_data.head()"
   ],
   "outputs": [
    {
     "output_type": "execute_result",
     "data": {
      "text/html": [
       "<div>\n",
       "<style scoped>\n",
       "    .dataframe tbody tr th:only-of-type {\n",
       "        vertical-align: middle;\n",
       "    }\n",
       "\n",
       "    .dataframe tbody tr th {\n",
       "        vertical-align: top;\n",
       "    }\n",
       "\n",
       "    .dataframe thead th {\n",
       "        text-align: right;\n",
       "    }\n",
       "</style>\n",
       "<table border=\"1\" class=\"dataframe\">\n",
       "  <thead>\n",
       "    <tr style=\"text-align: right;\">\n",
       "      <th></th>\n",
       "      <th>Murder</th>\n",
       "      <th>Assault</th>\n",
       "      <th>UrbanPop</th>\n",
       "      <th>Rape</th>\n",
       "      <th>KMeans_4</th>\n",
       "      <th>KMeans_3</th>\n",
       "      <th>Hierar_clusert_K(4)</th>\n",
       "    </tr>\n",
       "  </thead>\n",
       "  <tbody>\n",
       "    <tr>\n",
       "      <th>0</th>\n",
       "      <td>13.2</td>\n",
       "      <td>236</td>\n",
       "      <td>58</td>\n",
       "      <td>21.2</td>\n",
       "      <td>1</td>\n",
       "      <td>1</td>\n",
       "      <td>0</td>\n",
       "    </tr>\n",
       "    <tr>\n",
       "      <th>1</th>\n",
       "      <td>10.0</td>\n",
       "      <td>263</td>\n",
       "      <td>48</td>\n",
       "      <td>44.5</td>\n",
       "      <td>2</td>\n",
       "      <td>1</td>\n",
       "      <td>0</td>\n",
       "    </tr>\n",
       "    <tr>\n",
       "      <th>2</th>\n",
       "      <td>8.1</td>\n",
       "      <td>294</td>\n",
       "      <td>80</td>\n",
       "      <td>31.0</td>\n",
       "      <td>2</td>\n",
       "      <td>1</td>\n",
       "      <td>3</td>\n",
       "    </tr>\n",
       "    <tr>\n",
       "      <th>3</th>\n",
       "      <td>8.8</td>\n",
       "      <td>190</td>\n",
       "      <td>50</td>\n",
       "      <td>19.5</td>\n",
       "      <td>1</td>\n",
       "      <td>2</td>\n",
       "      <td>1</td>\n",
       "    </tr>\n",
       "    <tr>\n",
       "      <th>4</th>\n",
       "      <td>9.0</td>\n",
       "      <td>276</td>\n",
       "      <td>91</td>\n",
       "      <td>40.6</td>\n",
       "      <td>2</td>\n",
       "      <td>1</td>\n",
       "      <td>3</td>\n",
       "    </tr>\n",
       "  </tbody>\n",
       "</table>\n",
       "</div>"
      ],
      "text/plain": [
       "   Murder  Assault  UrbanPop  Rape  KMeans_4  KMeans_3  Hierar_clusert_K(4)\n",
       "0    13.2      236        58  21.2         1         1                    0\n",
       "1    10.0      263        48  44.5         2         1                    0\n",
       "2     8.1      294        80  31.0         2         1                    3\n",
       "3     8.8      190        50  19.5         1         2                    1\n",
       "4     9.0      276        91  40.6         2         1                    3"
      ]
     },
     "metadata": {},
     "execution_count": 24
    }
   ],
   "metadata": {}
  },
  {
   "cell_type": "code",
   "execution_count": 25,
   "source": [
    "for i in range(0,4):\r\n",
    "    sns.barplot(y=crime_data.iloc[:,i],x=crime_data[\"Hierar_clusert_K(4)\"])\r\n",
    "    plt.xlabel(\"Clusters\")\r\n",
    "    plt.ylabel(crime_data.columns[i])\r\n",
    "    plt.title(f\"hierarchical Clustering\")\r\n",
    "    plt.show()"
   ],
   "outputs": [
    {
     "output_type": "display_data",
     "data": {
      "image/png": "[encoded data removed]",
      "text/plain": [
       "<Figure size 432x288 with 1 Axes>"
      ]
     },
     "metadata": {
      "needs_background": "light"
     }
    },
    {
     "output_type": "display_data",
     "data": {
      "image/png": "[encoded data removed]",
      "text/plain": [
       "<Figure size 432x288 with 1 Axes>"
      ]
     },
     "metadata": {
      "needs_background": "light"
     }
    },
    {
     "output_type": "display_data",
     "data": {
      "image/png": "[encoded data removed]",
      "text/plain": [
       "<Figure size 432x288 with 1 Axes>"
      ]
     },
     "metadata": {
      "needs_background": "light"
     }
    },
    {
     "output_type": "display_data",
     "data": {
      "image/png": "[encoded data removed]",
      "text/plain": [
       "<Figure size 432x288 with 1 Axes>"
      ]
     },
     "metadata": {
      "needs_background": "light"
     }
    }
   ],
   "metadata": {}
  },
  {
   "cell_type": "markdown",
   "source": [
    "# DBSCAN Clustering"
   ],
   "metadata": {}
  },
  {
   "cell_type": "code",
   "execution_count": 26,
   "source": [
    "crime_data_nor.head()"
   ],
   "outputs": [
    {
     "output_type": "execute_result",
     "data": {
      "text/html": [
       "<div>\n",
       "<style scoped>\n",
       "    .dataframe tbody tr th:only-of-type {\n",
       "        vertical-align: middle;\n",
       "    }\n",
       "\n",
       "    .dataframe tbody tr th {\n",
       "        vertical-align: top;\n",
       "    }\n",
       "\n",
       "    .dataframe thead th {\n",
       "        text-align: right;\n",
       "    }\n",
       "</style>\n",
       "<table border=\"1\" class=\"dataframe\">\n",
       "  <thead>\n",
       "    <tr style=\"text-align: right;\">\n",
       "      <th></th>\n",
       "      <th>Murder</th>\n",
       "      <th>Assault</th>\n",
       "      <th>UrbanPop</th>\n",
       "      <th>Rape</th>\n",
       "    </tr>\n",
       "  </thead>\n",
       "  <tbody>\n",
       "    <tr>\n",
       "      <th>0</th>\n",
       "      <td>0.746988</td>\n",
       "      <td>0.654110</td>\n",
       "      <td>0.440678</td>\n",
       "      <td>0.359173</td>\n",
       "    </tr>\n",
       "    <tr>\n",
       "      <th>1</th>\n",
       "      <td>0.554217</td>\n",
       "      <td>0.746575</td>\n",
       "      <td>0.271186</td>\n",
       "      <td>0.961240</td>\n",
       "    </tr>\n",
       "    <tr>\n",
       "      <th>2</th>\n",
       "      <td>0.439759</td>\n",
       "      <td>0.852740</td>\n",
       "      <td>0.813559</td>\n",
       "      <td>0.612403</td>\n",
       "    </tr>\n",
       "    <tr>\n",
       "      <th>3</th>\n",
       "      <td>0.481928</td>\n",
       "      <td>0.496575</td>\n",
       "      <td>0.305085</td>\n",
       "      <td>0.315245</td>\n",
       "    </tr>\n",
       "    <tr>\n",
       "      <th>4</th>\n",
       "      <td>0.493976</td>\n",
       "      <td>0.791096</td>\n",
       "      <td>1.000000</td>\n",
       "      <td>0.860465</td>\n",
       "    </tr>\n",
       "  </tbody>\n",
       "</table>\n",
       "</div>"
      ],
      "text/plain": [
       "     Murder   Assault  UrbanPop      Rape\n",
       "0  0.746988  0.654110  0.440678  0.359173\n",
       "1  0.554217  0.746575  0.271186  0.961240\n",
       "2  0.439759  0.852740  0.813559  0.612403\n",
       "3  0.481928  0.496575  0.305085  0.315245\n",
       "4  0.493976  0.791096  1.000000  0.860465"
      ]
     },
     "metadata": {},
     "execution_count": 26
    }
   ],
   "metadata": {}
  },
  {
   "cell_type": "code",
   "execution_count": 27,
   "source": [
    "dbscan = DBSCAN(eps=0.2,min_samples=3)\r\n",
    "dbscan.fit(crime_data_nor)\r\n",
    "# dbscan.fit_predict(crime_data_nor)"
   ],
   "outputs": [
    {
     "output_type": "execute_result",
     "data": {
      "text/plain": [
       "DBSCAN(eps=0.2, min_samples=3)"
      ]
     },
     "metadata": {},
     "execution_count": 27
    }
   ],
   "metadata": {}
  },
  {
   "cell_type": "code",
   "execution_count": 28,
   "source": [
    "crime_data[\"DBSCAN_E(0.8)_MS(3)\"] = dbscan.labels_\r\n",
    "crime_data.head()"
   ],
   "outputs": [
    {
     "output_type": "execute_result",
     "data": {
      "text/html": [
       "<div>\n",
       "<style scoped>\n",
       "    .dataframe tbody tr th:only-of-type {\n",
       "        vertical-align: middle;\n",
       "    }\n",
       "\n",
       "    .dataframe tbody tr th {\n",
       "        vertical-align: top;\n",
       "    }\n",
       "\n",
       "    .dataframe thead th {\n",
       "        text-align: right;\n",
       "    }\n",
       "</style>\n",
       "<table border=\"1\" class=\"dataframe\">\n",
       "  <thead>\n",
       "    <tr style=\"text-align: right;\">\n",
       "      <th></th>\n",
       "      <th>Murder</th>\n",
       "      <th>Assault</th>\n",
       "      <th>UrbanPop</th>\n",
       "      <th>Rape</th>\n",
       "      <th>KMeans_4</th>\n",
       "      <th>KMeans_3</th>\n",
       "      <th>Hierar_clusert_K(4)</th>\n",
       "      <th>DBSCAN_E(0.8)_MS(3)</th>\n",
       "    </tr>\n",
       "  </thead>\n",
       "  <tbody>\n",
       "    <tr>\n",
       "      <th>0</th>\n",
       "      <td>13.2</td>\n",
       "      <td>236</td>\n",
       "      <td>58</td>\n",
       "      <td>21.2</td>\n",
       "      <td>1</td>\n",
       "      <td>1</td>\n",
       "      <td>0</td>\n",
       "      <td>-1</td>\n",
       "    </tr>\n",
       "    <tr>\n",
       "      <th>1</th>\n",
       "      <td>10.0</td>\n",
       "      <td>263</td>\n",
       "      <td>48</td>\n",
       "      <td>44.5</td>\n",
       "      <td>2</td>\n",
       "      <td>1</td>\n",
       "      <td>0</td>\n",
       "      <td>-1</td>\n",
       "    </tr>\n",
       "    <tr>\n",
       "      <th>2</th>\n",
       "      <td>8.1</td>\n",
       "      <td>294</td>\n",
       "      <td>80</td>\n",
       "      <td>31.0</td>\n",
       "      <td>2</td>\n",
       "      <td>1</td>\n",
       "      <td>3</td>\n",
       "      <td>-1</td>\n",
       "    </tr>\n",
       "    <tr>\n",
       "      <th>3</th>\n",
       "      <td>8.8</td>\n",
       "      <td>190</td>\n",
       "      <td>50</td>\n",
       "      <td>19.5</td>\n",
       "      <td>1</td>\n",
       "      <td>2</td>\n",
       "      <td>1</td>\n",
       "      <td>-1</td>\n",
       "    </tr>\n",
       "    <tr>\n",
       "      <th>4</th>\n",
       "      <td>9.0</td>\n",
       "      <td>276</td>\n",
       "      <td>91</td>\n",
       "      <td>40.6</td>\n",
       "      <td>2</td>\n",
       "      <td>1</td>\n",
       "      <td>3</td>\n",
       "      <td>-1</td>\n",
       "    </tr>\n",
       "  </tbody>\n",
       "</table>\n",
       "</div>"
      ],
      "text/plain": [
       "   Murder  Assault  UrbanPop  Rape  KMeans_4  KMeans_3  Hierar_clusert_K(4)  \\\n",
       "0    13.2      236        58  21.2         1         1                    0   \n",
       "1    10.0      263        48  44.5         2         1                    0   \n",
       "2     8.1      294        80  31.0         2         1                    3   \n",
       "3     8.8      190        50  19.5         1         2                    1   \n",
       "4     9.0      276        91  40.6         2         1                    3   \n",
       "\n",
       "   DBSCAN_E(0.8)_MS(3)  \n",
       "0                   -1  \n",
       "1                   -1  \n",
       "2                   -1  \n",
       "3                   -1  \n",
       "4                   -1  "
      ]
     },
     "metadata": {},
     "execution_count": 28
    }
   ],
   "metadata": {}
  },
  {
   "cell_type": "code",
   "execution_count": 29,
   "source": [
    "for i in range(0,4):\r\n",
    "    sns.barplot(y=crime_data.iloc[:,i],x=crime_data[\"DBSCAN_E(0.8)_MS(3)\"])\r\n",
    "    plt.xlabel(\"Clusters\")\r\n",
    "    plt.ylabel(crime_data.columns[i])\r\n",
    "    plt.title(f\"BDSCAN Clustering\")\r\n",
    "    plt.show()"
   ],
   "outputs": [
    {
     "output_type": "display_data",
     "data": {
      "image/png": "[encoded data removed]",
      "text/plain": [
       "<Figure size 432x288 with 1 Axes>"
      ]
     },
     "metadata": {
      "needs_background": "light"
     }
    },
    {
     "output_type": "display_data",
     "data": {
      "image/png": "[encoded data removed]",
      "text/plain": [
       "<Figure size 432x288 with 1 Axes>"
      ]
     },
     "metadata": {
      "needs_background": "light"
     }
    },
    {
     "output_type": "display_data",
     "data": {
      "image/png": "[encoded data removed]",
      "text/plain": [
       "<Figure size 432x288 with 1 Axes>"
      ]
     },
     "metadata": {
      "needs_background": "light"
     }
    },
    {
     "output_type": "display_data",
     "data": {
      "image/png": "[encoded data removed]",
      "text/plain": [
       "<Figure size 432x288 with 1 Axes>"
      ]
     },
     "metadata": {
      "needs_background": "light"
     }
    }
   ],
   "metadata": {}
  },
  {
   "cell_type": "code",
   "execution_count": 30,
   "source": [
    "crime_data.to_csv(\"clustred.csv\")"
   ],
   "outputs": [],
   "metadata": {}
  },
  {
   "cell_type": "code",
   "execution_count": 31,
   "source": [
    "sns.color_palette(\"hls\", 8)\r\n",
    "sns.pairplot(crime_data.drop(columns=[\"KMeans_4\",\"KMeans_3\",\"Hierar_clusert_K(4)\"]),palette=\"hls\",hue=\"DBSCAN_E(0.8)_MS(3)\",)"
   ],
   "outputs": [
    {
     "output_type": "execute_result",
     "data": {
      "text/plain": [
       "<seaborn.axisgrid.PairGrid at 0x146a96f7e50>"
      ]
     },
     "metadata": {},
     "execution_count": 31
    },
    {
     "output_type": "display_data",
     "data": {
      "image/png": "[encoded data removed]",
      "text/plain": [
       "<Figure size 838.625x720 with 20 Axes>"
      ]
     },
     "metadata": {
      "needs_background": "light"
     }
    }
   ],
   "metadata": {}
  }
 ],
 "metadata": {
  "orig_nbformat": 4,
  "language_info": {
   "name": "python",
   "version": "3.9.7",
   "mimetype": "text/x-python",
   "codemirror_mode": {
    "name": "ipython",
    "version": 3
   },
   "pygments_lexer": "ipython3",
   "nbconvert_exporter": "python",
   "file_extension": ".py"
  },
  "kernelspec": {
   "name": "python3",
   "display_name": "Python 3.9.7 64-bit"
  },
  "interpreter": {
   "hash": "35392685bbf6d6fe64763da41ae73229a64a62133a14e535f59b1730fb7cb56a"
  }
 },
 "nbformat": 4,
 "nbformat_minor": 2
}