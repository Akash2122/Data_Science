{
 "cells": [
  {
   "cell_type": "code",
   "execution_count": 1,
   "id": "2415537a",
   "metadata": {},
   "outputs": [],
   "source": [
    "import pandas as pd\n",
    "import seaborn as sns\n",
    "import matplotlib.pyplot as plt\n",
    "import scipy as sp"
   ]
  },
  {
   "cell_type": "markdown",
   "id": "63bf07a8",
   "metadata": {},
   "source": [
    "importing data & view"
   ]
  },
  {
   "cell_type": "code",
   "execution_count": 2,
   "id": "2ac0e223",
   "metadata": {},
   "outputs": [
    {
     "data": {
      "text/html": [
       "<div>\n",
       "<style scoped>\n",
       "    .dataframe tbody tr th:only-of-type {\n",
       "        vertical-align: middle;\n",
       "    }\n",
       "\n",
       "    .dataframe tbody tr th {\n",
       "        vertical-align: top;\n",
       "    }\n",
       "\n",
       "    .dataframe thead th {\n",
       "        text-align: right;\n",
       "    }\n",
       "</style>\n",
       "<table border=\"1\" class=\"dataframe\">\n",
       "  <thead>\n",
       "    <tr style=\"text-align: right;\">\n",
       "      <th></th>\n",
       "      <th>Name of company</th>\n",
       "      <th>Measure X</th>\n",
       "    </tr>\n",
       "  </thead>\n",
       "  <tbody>\n",
       "    <tr>\n",
       "      <th>0</th>\n",
       "      <td>Allied Signal</td>\n",
       "      <td>24.23%</td>\n",
       "    </tr>\n",
       "    <tr>\n",
       "      <th>1</th>\n",
       "      <td>Bankers Trust</td>\n",
       "      <td>25.53%</td>\n",
       "    </tr>\n",
       "  </tbody>\n",
       "</table>\n",
       "</div>"
      ],
      "text/plain": [
       "  Name of company Measure X\n",
       "0   Allied Signal    24.23%\n",
       "1   Bankers Trust    25.53%"
      ]
     },
     "execution_count": 2,
     "metadata": {},
     "output_type": "execute_result"
    }
   ],
   "source": [
    "data = pd.read_csv(\"../Data_sets/Q1.csv\")\n",
    "data.head(2)"
   ]
  },
  {
   "cell_type": "markdown",
   "id": "59582ea1",
   "metadata": {},
   "source": [
    "Cleaning data(Rename,Remove \"%\" sign & converting str to Float)"
   ]
  },
  {
   "cell_type": "code",
   "execution_count": 3,
   "id": "8ca7ffb2",
   "metadata": {},
   "outputs": [
    {
     "data": {
      "text/html": [
       "<div>\n",
       "<style scoped>\n",
       "    .dataframe tbody tr th:only-of-type {\n",
       "        vertical-align: middle;\n",
       "    }\n",
       "\n",
       "    .dataframe tbody tr th {\n",
       "        vertical-align: top;\n",
       "    }\n",
       "\n",
       "    .dataframe thead th {\n",
       "        text-align: right;\n",
       "    }\n",
       "</style>\n",
       "<table border=\"1\" class=\"dataframe\">\n",
       "  <thead>\n",
       "    <tr style=\"text-align: right;\">\n",
       "      <th></th>\n",
       "      <th>Companies</th>\n",
       "      <th>MeasureX</th>\n",
       "    </tr>\n",
       "  </thead>\n",
       "  <tbody>\n",
       "    <tr>\n",
       "      <th>0</th>\n",
       "      <td>Allied Signal</td>\n",
       "      <td>24.23</td>\n",
       "    </tr>\n",
       "    <tr>\n",
       "      <th>1</th>\n",
       "      <td>Bankers Trust</td>\n",
       "      <td>25.53</td>\n",
       "    </tr>\n",
       "    <tr>\n",
       "      <th>2</th>\n",
       "      <td>General Mills</td>\n",
       "      <td>25.41</td>\n",
       "    </tr>\n",
       "    <tr>\n",
       "      <th>3</th>\n",
       "      <td>ITT Industries</td>\n",
       "      <td>24.14</td>\n",
       "    </tr>\n",
       "    <tr>\n",
       "      <th>4</th>\n",
       "      <td>J.P.Morgan &amp; Co.</td>\n",
       "      <td>29.62</td>\n",
       "    </tr>\n",
       "  </tbody>\n",
       "</table>\n",
       "</div>"
      ],
      "text/plain": [
       "          Companies MeasureX\n",
       "0     Allied Signal    24.23\n",
       "1     Bankers Trust    25.53\n",
       "2     General Mills    25.41\n",
       "3    ITT Industries    24.14\n",
       "4  J.P.Morgan & Co.    29.62"
      ]
     },
     "execution_count": 3,
     "metadata": {},
     "output_type": "execute_result"
    }
   ],
   "source": [
    "data.rename(columns={\"Measure X\":\"MeasureX\",\"Name of company\":\"Companies\"},inplace=True)\n",
    "data = data.replace('\\%','',regex=True)\n",
    "data.head()"
   ]
  },
  {
   "cell_type": "code",
   "execution_count": 4,
   "id": "04e3297b",
   "metadata": {},
   "outputs": [],
   "source": [
    "x = data[\"MeasureX\"].astype(float)\n",
    "data[\"MeasureX\"]= x"
   ]
  },
  {
   "cell_type": "code",
   "execution_count": 9,
   "id": "0cb16805",
   "metadata": {},
   "outputs": [
    {
     "data": {
      "text/html": [
       "<div>\n",
       "<style scoped>\n",
       "    .dataframe tbody tr th:only-of-type {\n",
       "        vertical-align: middle;\n",
       "    }\n",
       "\n",
       "    .dataframe tbody tr th {\n",
       "        vertical-align: top;\n",
       "    }\n",
       "\n",
       "    .dataframe thead th {\n",
       "        text-align: right;\n",
       "    }\n",
       "</style>\n",
       "<table border=\"1\" class=\"dataframe\">\n",
       "  <thead>\n",
       "    <tr style=\"text-align: right;\">\n",
       "      <th></th>\n",
       "      <th>MeasureX</th>\n",
       "    </tr>\n",
       "  </thead>\n",
       "  <tbody>\n",
       "    <tr>\n",
       "      <th>count</th>\n",
       "      <td>15.000000</td>\n",
       "    </tr>\n",
       "    <tr>\n",
       "      <th>mean</th>\n",
       "      <td>33.271333</td>\n",
       "    </tr>\n",
       "    <tr>\n",
       "      <th>std</th>\n",
       "      <td>16.945401</td>\n",
       "    </tr>\n",
       "    <tr>\n",
       "      <th>min</th>\n",
       "      <td>24.140000</td>\n",
       "    </tr>\n",
       "    <tr>\n",
       "      <th>25%</th>\n",
       "      <td>25.470000</td>\n",
       "    </tr>\n",
       "    <tr>\n",
       "      <th>50%</th>\n",
       "      <td>26.710000</td>\n",
       "    </tr>\n",
       "    <tr>\n",
       "      <th>75%</th>\n",
       "      <td>33.975000</td>\n",
       "    </tr>\n",
       "    <tr>\n",
       "      <th>max</th>\n",
       "      <td>91.360000</td>\n",
       "    </tr>\n",
       "  </tbody>\n",
       "</table>\n",
       "</div>"
      ],
      "text/plain": [
       "        MeasureX\n",
       "count  15.000000\n",
       "mean   33.271333\n",
       "std    16.945401\n",
       "min    24.140000\n",
       "25%    25.470000\n",
       "50%    26.710000\n",
       "75%    33.975000\n",
       "max    91.360000"
      ]
     },
     "execution_count": 9,
     "metadata": {},
     "output_type": "execute_result"
    }
   ],
   "source": [
    "data.describe()"
   ]
  },
  {
   "cell_type": "code",
   "execution_count": 6,
   "id": "2e14b288",
   "metadata": {},
   "outputs": [
    {
     "data": {
      "text/plain": [
       "20.0"
      ]
     },
     "execution_count": 6,
     "metadata": {},
     "output_type": "execute_result"
    }
   ],
   "source": [
    "sp.stats.percentileofscore(a=data.MeasureX,score=25)\n",
    "#scipy.stats.percentileofscore(a, score, kind='rank')\n",
    "#scipy.stats.percentileofscore(a, score, kind='rank')"
   ]
  },
  {
   "cell_type": "code",
   "execution_count": null,
   "id": "a9a3241b",
   "metadata": {},
   "outputs": [],
   "source": [
    "sp.stats.percentileofscore(data.MeasureX,50)\n",
    "#scipy.stats.percentileofscore(a, score, kind='rank')\n",
    "#scipy.stats.percentileofscore(a, score, kind='rank')"
   ]
  },
  {
   "cell_type": "code",
   "execution_count": null,
   "id": "bd3ecd6a",
   "metadata": {},
   "outputs": [],
   "source": [
    "sp.stats.percentileofscore(data.MeasureX,)\n",
    "#scipy.stats.percentileofscore(a, score, kind='rank')\n",
    "#scipy.stats.percentileofscore(a, score, kind='rank')"
   ]
  },
  {
   "cell_type": "code",
   "execution_count": null,
   "id": "ec1ea172",
   "metadata": {},
   "outputs": [],
   "source": []
  },
  {
   "cell_type": "code",
   "execution_count": null,
   "id": "3bd86020",
   "metadata": {},
   "outputs": [],
   "source": [
    "sp.stats.iqr(data.MeasureX)"
   ]
  },
  {
   "cell_type": "code",
   "execution_count": null,
   "id": "c049d3c2",
   "metadata": {},
   "outputs": [],
   "source": [
    "plt.figure(figsize=(5,5))\n",
    "sns.boxplot(y=\"MeasureX\",data=data,orient=\"v\")\n",
    "plt.show()"
   ]
  },
  {
   "cell_type": "markdown",
   "id": "3bf6b3ba",
   "metadata": {},
   "source": [
    "droping outlier"
   ]
  },
  {
   "cell_type": "code",
   "execution_count": null,
   "id": "36d6ff1b",
   "metadata": {},
   "outputs": [],
   "source": [
    "data1 = data.drop(data[data[\"MeasureX\"]>90].index)\n",
    "data1"
   ]
  },
  {
   "cell_type": "code",
   "execution_count": null,
   "id": "8a7e56ca",
   "metadata": {},
   "outputs": [],
   "source": [
    "plt.figure(figsize=(5,5))\n",
    "sns.boxplot(y=\"MeasureX\",data=data1,orient=\"v\")\n",
    "plt.show()"
   ]
  },
  {
   "cell_type": "markdown",
   "id": "1bda1160",
   "metadata": {},
   "source": [
    "Mean , variance & Standard Deviation"
   ]
  },
  {
   "cell_type": "code",
   "execution_count": null,
   "id": "bc4967db",
   "metadata": {},
   "outputs": [],
   "source": [
    "data[\"MeasureX\"].mean()"
   ]
  },
  {
   "cell_type": "code",
   "execution_count": null,
   "id": "35453abb",
   "metadata": {},
   "outputs": [],
   "source": [
    "data[\"MeasureX\"].var()"
   ]
  },
  {
   "cell_type": "code",
   "execution_count": null,
   "id": "2480fa66",
   "metadata": {},
   "outputs": [],
   "source": [
    "data[\"MeasureX\"].std()"
   ]
  },
  {
   "cell_type": "markdown",
   "id": "a2aa6050",
   "metadata": {},
   "source": [
    "# "
   ]
  },
  {
   "cell_type": "code",
   "execution_count": null,
   "id": "c2ef7764",
   "metadata": {},
   "outputs": [],
   "source": []
  }
 ],
 "metadata": {
  "kernelspec": {
   "display_name": "Python 3",
   "language": "python",
   "name": "python3"
  },
  "language_info": {
   "codemirror_mode": {
    "name": "ipython",
    "version": 3
   },
   "file_extension": ".py",
   "mimetype": "text/x-python",
   "name": "python",
   "nbconvert_exporter": "python",
   "pygments_lexer": "ipython3",
   "version": "3.8.8"
  }
 },
 "nbformat": 4,
 "nbformat_minor": 5
}
