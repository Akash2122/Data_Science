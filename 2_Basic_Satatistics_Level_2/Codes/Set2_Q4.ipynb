{
 "cells": [
  {
   "cell_type": "markdown",
   "id": "b79373f0",
   "metadata": {},
   "source": [
    "4. Let X ~ N(100, 202). Find two values, a and b,<br>symmetric about the mean, such that the probability <br>of the random variable taking a value between them is 0.99. "
   ]
  },
  {
   "cell_type": "code",
   "execution_count": 1,
   "id": "d5330bc9",
   "metadata": {},
   "outputs": [],
   "source": [
    "import scipy.stats as st"
   ]
  },
  {
   "cell_type": "code",
   "execution_count": 2,
   "id": "f3066ce6",
   "metadata": {},
   "outputs": [
    {
     "data": {
      "text/plain": [
       "(48.48341392902199, 151.516586070978)"
      ]
     },
     "execution_count": 2,
     "metadata": {},
     "output_type": "execute_result"
    }
   ],
   "source": [
    "st.norm.interval(alpha=0.99,loc=100,scale=20)"
   ]
  },
  {
   "cell_type": "markdown",
   "id": "a85da7c5",
   "metadata": {},
   "source": [
    "# "
   ]
  },
  {
   "cell_type": "code",
   "execution_count": null,
   "id": "c7215ff3",
   "metadata": {},
   "outputs": [],
   "source": [
    "002261309999"
   ]
  }
 ],
 "metadata": {
  "kernelspec": {
   "display_name": "Python 3",
   "language": "python",
   "name": "python3"
  },
  "language_info": {
   "codemirror_mode": {
    "name": "ipython",
    "version": 3
   },
   "file_extension": ".py",
   "mimetype": "text/x-python",
   "name": "python",
   "nbconvert_exporter": "python",
   "pygments_lexer": "ipython3",
   "version": "3.8.8"
  }
 },
 "nbformat": 4,
 "nbformat_minor": 5
}
