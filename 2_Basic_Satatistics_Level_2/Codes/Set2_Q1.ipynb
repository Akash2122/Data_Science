{
 "cells": [
  {
   "cell_type": "markdown",
   "id": "d6fa39e5",
   "metadata": {},
   "source": [
    "1.\tThe time required for servicing transmissions is normally distributed with Mu = 45 minutes and sd = 8 minutes. The service manager plans to have work begin on the transmission of a customer’s car 10 minutes after the car is dropped off and the customer is told that the car will be ready within 1 hour from drop-off. What is the probability that the service manager cannot meet his commitment? "
   ]
  },
  {
   "cell_type": "code",
   "execution_count": 1,
   "id": "b67bfef6",
   "metadata": {},
   "outputs": [],
   "source": [
    "import scipy.stats as spst"
   ]
  },
  {
   "cell_type": "code",
   "execution_count": 2,
   "id": "e728a933",
   "metadata": {},
   "outputs": [],
   "source": [
    "Mu = 45 #actual avarage servicing time"
   ]
  },
  {
   "cell_type": "code",
   "execution_count": 3,
   "id": "91083428",
   "metadata": {},
   "outputs": [],
   "source": [
    "New_Mu = 45 + 10 #As servicing begins after 10 min after car droped"
   ]
  },
  {
   "cell_type": "code",
   "execution_count": 4,
   "id": "82f1baf3",
   "metadata": {},
   "outputs": [],
   "source": [
    "sd = 8 #Standard Deviation "
   ]
  },
  {
   "cell_type": "code",
   "execution_count": 5,
   "id": "72e61a29",
   "metadata": {},
   "outputs": [
    {
     "data": {
      "text/plain": [
       "0.26598552904870054"
      ]
     },
     "execution_count": 5,
     "metadata": {},
     "output_type": "execute_result"
    }
   ],
   "source": [
    "p= 1 - spst.norm.cdf(x=60,loc=New_Mu,scale=sd)\n",
    "p"
   ]
  },
  {
   "cell_type": "markdown",
   "id": "abc5d156",
   "metadata": {},
   "source": [
    "# "
   ]
  },
  {
   "cell_type": "code",
   "execution_count": null,
   "id": "45aa63d3",
   "metadata": {},
   "outputs": [],
   "source": []
  }
 ],
 "metadata": {
  "kernelspec": {
   "display_name": "Python 3",
   "language": "python",
   "name": "python3"
  },
  "language_info": {
   "codemirror_mode": {
    "name": "ipython",
    "version": 3
   },
   "file_extension": ".py",
   "mimetype": "text/x-python",
   "name": "python",
   "nbconvert_exporter": "python",
   "pygments_lexer": "ipython3",
   "version": "3.8.8"
  }
 },
 "nbformat": 4,
 "nbformat_minor": 5
}
