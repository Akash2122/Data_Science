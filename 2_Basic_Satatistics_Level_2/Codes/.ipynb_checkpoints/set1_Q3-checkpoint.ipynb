{
 "cells": [
  {
   "cell_type": "markdown",
   "id": "2164e284",
   "metadata": {},
   "source": [
    "3.\tAT&T was running commercials in 1990 aimed at luring back customers who had switched to one of the other long-distance phone service providers. One such commercial shows a businessman trying to reach Phoenix and mistakenly getting Fiji, where a half-naked native on a beach responds incomprehensibly in Polynesian. When asked about this advertisement, AT&T admitted that the portrayed incident did not actually take place but added that this was an enactment of something that “could happen.” Suppose that one in 200 long-distance telephone calls is misdirected. What is the probability that at least one in five attempted telephone calls reaches the wrong number? (Assume independence of attempts.)"
   ]
  },
  {
   "cell_type": "code",
   "execution_count": 4,
   "id": "babdd086",
   "metadata": {},
   "outputs": [],
   "source": [
    "import scipy.stats as st"
   ]
  },
  {
   "cell_type": "code",
   "execution_count": 6,
   "id": "9d5cdb03",
   "metadata": {},
   "outputs": [
    {
     "data": {
      "text/plain": [
       "0.024503737515625002"
      ]
     },
     "execution_count": 6,
     "metadata": {},
     "output_type": "execute_result"
    }
   ],
   "source": [
    "st.binom.pmf(k=1,n=5,p=0.005)"
   ]
  },
  {
   "cell_type": "code",
   "execution_count": null,
   "id": "d14486a0",
   "metadata": {},
   "outputs": [],
   "source": []
  }
 ],
 "metadata": {
  "kernelspec": {
   "display_name": "Python 3",
   "language": "python",
   "name": "python3"
  },
  "language_info": {
   "codemirror_mode": {
    "name": "ipython",
    "version": 3
   },
   "file_extension": ".py",
   "mimetype": "text/x-python",
   "name": "python",
   "nbconvert_exporter": "python",
   "pygments_lexer": "ipython3",
   "version": "3.8.8"
  }
 },
 "nbformat": 4,
 "nbformat_minor": 5
}
