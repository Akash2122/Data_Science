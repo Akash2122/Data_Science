{
 "cells": [
  {
   "cell_type": "markdown",
   "source": [
    "Perform Principal component analysis and perform clustering using first \r\n",
    "3 principal component scores (both heirarchial and k mean clustering(scree plot or elbow curve) and obtain \r\n",
    "optimum number of clusters and check whether we have obtained same number of clusters with the original data \r\n",
    "(class column we have ignored at the begining who shows it has 3 clusters)df\r\n"
   ],
   "metadata": {}
  },
  {
   "cell_type": "code",
   "execution_count": 1,
   "source": [
    "import pandas as pd\r\n",
    "import numpy as np\r\n",
    "import matplotlib.pyplot as plt\r\n",
    "import seaborn as sns\r\n",
    "from sklearn.decomposition import PCA\r\n",
    "from sklearn.preprocessing import normalize\r\n",
    "from sklearn.cluster import KMeans\r\n",
    "import scipy.cluster.hierarchy as sch\r\n",
    "from sklearn.cluster import AgglomerativeClustering"
   ],
   "outputs": [],
   "metadata": {}
  },
  {
   "cell_type": "code",
   "execution_count": 2,
   "source": [
    "features = pd.read_csv(\"wine.csv\")\r\n",
    "features.head(3)"
   ],
   "outputs": [
    {
     "output_type": "execute_result",
     "data": {
      "text/html": [
       "<div>\n",
       "<style scoped>\n",
       "    .dataframe tbody tr th:only-of-type {\n",
       "        vertical-align: middle;\n",
       "    }\n",
       "\n",
       "    .dataframe tbody tr th {\n",
       "        vertical-align: top;\n",
       "    }\n",
       "\n",
       "    .dataframe thead th {\n",
       "        text-align: right;\n",
       "    }\n",
       "</style>\n",
       "<table border=\"1\" class=\"dataframe\">\n",
       "  <thead>\n",
       "    <tr style=\"text-align: right;\">\n",
       "      <th></th>\n",
       "      <th>Type</th>\n",
       "      <th>Alcohol</th>\n",
       "      <th>Malic</th>\n",
       "      <th>Ash</th>\n",
       "      <th>Alcalinity</th>\n",
       "      <th>Magnesium</th>\n",
       "      <th>Phenols</th>\n",
       "      <th>Flavanoids</th>\n",
       "      <th>Nonflavanoids</th>\n",
       "      <th>Proanthocyanins</th>\n",
       "      <th>Color</th>\n",
       "      <th>Hue</th>\n",
       "      <th>Dilution</th>\n",
       "      <th>Proline</th>\n",
       "    </tr>\n",
       "  </thead>\n",
       "  <tbody>\n",
       "    <tr>\n",
       "      <th>0</th>\n",
       "      <td>1</td>\n",
       "      <td>14.23</td>\n",
       "      <td>1.71</td>\n",
       "      <td>2.43</td>\n",
       "      <td>15.6</td>\n",
       "      <td>127</td>\n",
       "      <td>2.80</td>\n",
       "      <td>3.06</td>\n",
       "      <td>0.28</td>\n",
       "      <td>2.29</td>\n",
       "      <td>5.64</td>\n",
       "      <td>1.04</td>\n",
       "      <td>3.92</td>\n",
       "      <td>1065</td>\n",
       "    </tr>\n",
       "    <tr>\n",
       "      <th>1</th>\n",
       "      <td>1</td>\n",
       "      <td>13.20</td>\n",
       "      <td>1.78</td>\n",
       "      <td>2.14</td>\n",
       "      <td>11.2</td>\n",
       "      <td>100</td>\n",
       "      <td>2.65</td>\n",
       "      <td>2.76</td>\n",
       "      <td>0.26</td>\n",
       "      <td>1.28</td>\n",
       "      <td>4.38</td>\n",
       "      <td>1.05</td>\n",
       "      <td>3.40</td>\n",
       "      <td>1050</td>\n",
       "    </tr>\n",
       "    <tr>\n",
       "      <th>2</th>\n",
       "      <td>1</td>\n",
       "      <td>13.16</td>\n",
       "      <td>2.36</td>\n",
       "      <td>2.67</td>\n",
       "      <td>18.6</td>\n",
       "      <td>101</td>\n",
       "      <td>2.80</td>\n",
       "      <td>3.24</td>\n",
       "      <td>0.30</td>\n",
       "      <td>2.81</td>\n",
       "      <td>5.68</td>\n",
       "      <td>1.03</td>\n",
       "      <td>3.17</td>\n",
       "      <td>1185</td>\n",
       "    </tr>\n",
       "  </tbody>\n",
       "</table>\n",
       "</div>"
      ],
      "text/plain": [
       "   Type  Alcohol  Malic   Ash  Alcalinity  Magnesium  Phenols  Flavanoids  \\\n",
       "0     1    14.23   1.71  2.43        15.6        127     2.80        3.06   \n",
       "1     1    13.20   1.78  2.14        11.2        100     2.65        2.76   \n",
       "2     1    13.16   2.36  2.67        18.6        101     2.80        3.24   \n",
       "\n",
       "   Nonflavanoids  Proanthocyanins  Color   Hue  Dilution  Proline  \n",
       "0           0.28             2.29   5.64  1.04      3.92     1065  \n",
       "1           0.26             1.28   4.38  1.05      3.40     1050  \n",
       "2           0.30             2.81   5.68  1.03      3.17     1185  "
      ]
     },
     "metadata": {},
     "execution_count": 2
    }
   ],
   "metadata": {}
  },
  {
   "cell_type": "code",
   "execution_count": 3,
   "source": [
    "features.info()"
   ],
   "outputs": [
    {
     "output_type": "stream",
     "name": "stdout",
     "text": [
      "<class 'pandas.core.frame.DataFrame'>\n",
      "RangeIndex: 178 entries, 0 to 177\n",
      "Data columns (total 14 columns):\n",
      " #   Column           Non-Null Count  Dtype  \n",
      "---  ------           --------------  -----  \n",
      " 0   Type             178 non-null    int64  \n",
      " 1   Alcohol          178 non-null    float64\n",
      " 2   Malic            178 non-null    float64\n",
      " 3   Ash              178 non-null    float64\n",
      " 4   Alcalinity       178 non-null    float64\n",
      " 5   Magnesium        178 non-null    int64  \n",
      " 6   Phenols          178 non-null    float64\n",
      " 7   Flavanoids       178 non-null    float64\n",
      " 8   Nonflavanoids    178 non-null    float64\n",
      " 9   Proanthocyanins  178 non-null    float64\n",
      " 10  Color            178 non-null    float64\n",
      " 11  Hue              178 non-null    float64\n",
      " 12  Dilution         178 non-null    float64\n",
      " 13  Proline          178 non-null    int64  \n",
      "dtypes: float64(11), int64(3)\n",
      "memory usage: 19.6 KB\n"
     ]
    }
   ],
   "metadata": {}
  },
  {
   "cell_type": "code",
   "execution_count": 4,
   "source": [
    "# Saperating the Clustered Column\r\n",
    "data_y = features.iloc[:,:1]\r\n",
    "data = features.iloc[:,1:]\r\n",
    "data.head()"
   ],
   "outputs": [
    {
     "output_type": "execute_result",
     "data": {
      "text/html": [
       "<div>\n",
       "<style scoped>\n",
       "    .dataframe tbody tr th:only-of-type {\n",
       "        vertical-align: middle;\n",
       "    }\n",
       "\n",
       "    .dataframe tbody tr th {\n",
       "        vertical-align: top;\n",
       "    }\n",
       "\n",
       "    .dataframe thead th {\n",
       "        text-align: right;\n",
       "    }\n",
       "</style>\n",
       "<table border=\"1\" class=\"dataframe\">\n",
       "  <thead>\n",
       "    <tr style=\"text-align: right;\">\n",
       "      <th></th>\n",
       "      <th>Alcohol</th>\n",
       "      <th>Malic</th>\n",
       "      <th>Ash</th>\n",
       "      <th>Alcalinity</th>\n",
       "      <th>Magnesium</th>\n",
       "      <th>Phenols</th>\n",
       "      <th>Flavanoids</th>\n",
       "      <th>Nonflavanoids</th>\n",
       "      <th>Proanthocyanins</th>\n",
       "      <th>Color</th>\n",
       "      <th>Hue</th>\n",
       "      <th>Dilution</th>\n",
       "      <th>Proline</th>\n",
       "    </tr>\n",
       "  </thead>\n",
       "  <tbody>\n",
       "    <tr>\n",
       "      <th>0</th>\n",
       "      <td>14.23</td>\n",
       "      <td>1.71</td>\n",
       "      <td>2.43</td>\n",
       "      <td>15.6</td>\n",
       "      <td>127</td>\n",
       "      <td>2.80</td>\n",
       "      <td>3.06</td>\n",
       "      <td>0.28</td>\n",
       "      <td>2.29</td>\n",
       "      <td>5.64</td>\n",
       "      <td>1.04</td>\n",
       "      <td>3.92</td>\n",
       "      <td>1065</td>\n",
       "    </tr>\n",
       "    <tr>\n",
       "      <th>1</th>\n",
       "      <td>13.20</td>\n",
       "      <td>1.78</td>\n",
       "      <td>2.14</td>\n",
       "      <td>11.2</td>\n",
       "      <td>100</td>\n",
       "      <td>2.65</td>\n",
       "      <td>2.76</td>\n",
       "      <td>0.26</td>\n",
       "      <td>1.28</td>\n",
       "      <td>4.38</td>\n",
       "      <td>1.05</td>\n",
       "      <td>3.40</td>\n",
       "      <td>1050</td>\n",
       "    </tr>\n",
       "    <tr>\n",
       "      <th>2</th>\n",
       "      <td>13.16</td>\n",
       "      <td>2.36</td>\n",
       "      <td>2.67</td>\n",
       "      <td>18.6</td>\n",
       "      <td>101</td>\n",
       "      <td>2.80</td>\n",
       "      <td>3.24</td>\n",
       "      <td>0.30</td>\n",
       "      <td>2.81</td>\n",
       "      <td>5.68</td>\n",
       "      <td>1.03</td>\n",
       "      <td>3.17</td>\n",
       "      <td>1185</td>\n",
       "    </tr>\n",
       "    <tr>\n",
       "      <th>3</th>\n",
       "      <td>14.37</td>\n",
       "      <td>1.95</td>\n",
       "      <td>2.50</td>\n",
       "      <td>16.8</td>\n",
       "      <td>113</td>\n",
       "      <td>3.85</td>\n",
       "      <td>3.49</td>\n",
       "      <td>0.24</td>\n",
       "      <td>2.18</td>\n",
       "      <td>7.80</td>\n",
       "      <td>0.86</td>\n",
       "      <td>3.45</td>\n",
       "      <td>1480</td>\n",
       "    </tr>\n",
       "    <tr>\n",
       "      <th>4</th>\n",
       "      <td>13.24</td>\n",
       "      <td>2.59</td>\n",
       "      <td>2.87</td>\n",
       "      <td>21.0</td>\n",
       "      <td>118</td>\n",
       "      <td>2.80</td>\n",
       "      <td>2.69</td>\n",
       "      <td>0.39</td>\n",
       "      <td>1.82</td>\n",
       "      <td>4.32</td>\n",
       "      <td>1.04</td>\n",
       "      <td>2.93</td>\n",
       "      <td>735</td>\n",
       "    </tr>\n",
       "  </tbody>\n",
       "</table>\n",
       "</div>"
      ],
      "text/plain": [
       "   Alcohol  Malic   Ash  Alcalinity  Magnesium  Phenols  Flavanoids  \\\n",
       "0    14.23   1.71  2.43        15.6        127     2.80        3.06   \n",
       "1    13.20   1.78  2.14        11.2        100     2.65        2.76   \n",
       "2    13.16   2.36  2.67        18.6        101     2.80        3.24   \n",
       "3    14.37   1.95  2.50        16.8        113     3.85        3.49   \n",
       "4    13.24   2.59  2.87        21.0        118     2.80        2.69   \n",
       "\n",
       "   Nonflavanoids  Proanthocyanins  Color   Hue  Dilution  Proline  \n",
       "0           0.28             2.29   5.64  1.04      3.92     1065  \n",
       "1           0.26             1.28   4.38  1.05      3.40     1050  \n",
       "2           0.30             2.81   5.68  1.03      3.17     1185  \n",
       "3           0.24             2.18   7.80  0.86      3.45     1480  \n",
       "4           0.39             1.82   4.32  1.04      2.93      735  "
      ]
     },
     "metadata": {},
     "execution_count": 4
    }
   ],
   "metadata": {}
  },
  {
   "cell_type": "code",
   "execution_count": 5,
   "source": [
    "data.shape"
   ],
   "outputs": [
    {
     "output_type": "execute_result",
     "data": {
      "text/plain": [
       "(178, 13)"
      ]
     },
     "metadata": {},
     "execution_count": 5
    }
   ],
   "metadata": {}
  },
  {
   "cell_type": "code",
   "execution_count": 6,
   "source": [
    "#Scale the data\r\n",
    "scaled_array = normalize(data)\r\n",
    "scaled_array"
   ],
   "outputs": [
    {
     "output_type": "execute_result",
     "data": {
      "text/plain": [
       "array([[1.32644724e-02, 1.59397384e-03, 2.26512072e-03, ...,\n",
       "        9.69434383e-04, 3.65402190e-03, 9.92738094e-01],\n",
       "       [1.25128005e-02, 1.68733218e-03, 2.02859038e-03, ...,\n",
       "        9.95336401e-04, 3.22299406e-03, 9.95336401e-01],\n",
       "       [1.10630135e-02, 1.98394467e-03, 2.24454758e-03, ...,\n",
       "        8.65874158e-04, 2.66487484e-03, 9.96175609e-01],\n",
       "       ...,\n",
       "       [1.57227449e-02, 5.07108879e-03, 2.67772446e-03, ...,\n",
       "        6.99051960e-04, 1.84834078e-03, 9.89336248e-01],\n",
       "       [1.55136606e-02, 3.05090212e-03, 2.79175213e-03, ...,\n",
       "        7.06772691e-04, 1.90828627e-03, 9.89481768e-01],\n",
       "       [2.48340486e-02, 7.20591644e-03, 4.81566123e-03, ...,\n",
       "        1.07209976e-03, 2.81206495e-03, 9.84222734e-01]])"
      ]
     },
     "metadata": {},
     "execution_count": 6
    }
   ],
   "metadata": {}
  },
  {
   "cell_type": "code",
   "execution_count": 7,
   "source": [
    "#PCA implementation\r\n",
    "pca = PCA(n_components=13)\r\n",
    "fitted_pca = pca.fit_transform(scaled_array)\r\n",
    "fitted_pca"
   ],
   "outputs": [
    {
     "output_type": "execute_result",
     "data": {
      "text/plain": [
       "array([[-3.74249996e-02,  8.56634034e-03, -7.02546064e-04, ...,\n",
       "        -5.61513454e-05, -1.13946821e-04,  3.09751137e-05],\n",
       "       [-6.12918310e-02,  6.26313138e-03, -1.59396531e-03, ...,\n",
       "         5.22005415e-05, -1.01861989e-04,  2.66258795e-05],\n",
       "       [-6.97808941e-02, -6.51972713e-04, -1.75026521e-03, ...,\n",
       "         1.77939393e-04, -9.59052747e-05, -3.95480034e-05],\n",
       "       ...,\n",
       "       [-1.17017358e-02,  4.96269569e-03,  6.59786325e-03, ...,\n",
       "        -1.68560874e-04,  3.12815264e-04,  7.34501556e-05],\n",
       "       [-1.26364673e-02,  5.24455453e-03,  5.22725017e-03, ...,\n",
       "        -1.23501575e-04,  1.12731400e-05,  1.73192668e-04],\n",
       "       [ 2.02304567e-02, -8.87469952e-03,  8.47577684e-03, ...,\n",
       "         1.10107583e-04, -1.33104172e-04,  4.96637789e-05]])"
      ]
     },
     "metadata": {},
     "execution_count": 7
    }
   ],
   "metadata": {}
  },
  {
   "cell_type": "code",
   "execution_count": 8,
   "source": [
    "# PCA Components matrix or covariance Matrix\r\n",
    "pca.components_"
   ],
   "outputs": [
    {
     "output_type": "execute_result",
     "data": {
      "text/plain": [
       "array([[ 1.19673761e-01,  2.49338893e-02,  2.28717336e-02,\n",
       "         2.33457695e-01,  9.47519104e-01,  2.00688799e-02,\n",
       "         1.73009889e-02,  3.97611798e-03,  1.43830724e-02,\n",
       "         2.40252869e-02,  9.84149647e-03,  2.57936287e-02,\n",
       "        -1.73130819e-01],\n",
       "       [-2.58199161e-01, -1.12804632e-01, -6.41661220e-02,\n",
       "        -9.12659355e-01,  2.60494502e-01, -2.94612082e-02,\n",
       "        -1.57073776e-02, -1.88344325e-02, -2.17734571e-02,\n",
       "        -9.86958749e-02, -8.52837069e-03, -5.04888026e-02,\n",
       "        -3.71524145e-02],\n",
       "       [ 2.66019195e-02,  1.72076521e-01, -2.44664811e-03,\n",
       "        -9.40350818e-02,  4.44798264e-02, -1.30209881e-01,\n",
       "        -2.42092120e-01,  9.91768616e-03, -9.35210768e-02,\n",
       "         8.77898280e-01, -7.74806881e-02, -2.45564272e-01,\n",
       "         1.93485793e-01],\n",
       "       [ 7.24459026e-01, -7.80376744e-03,  1.32563280e-02,\n",
       "        -2.78520915e-01, -1.06968617e-01,  2.40448871e-01,\n",
       "         2.89326875e-01, -3.49413143e-03,  1.42212745e-01,\n",
       "         2.32895132e-01,  6.71130076e-02,  2.54796480e-01,\n",
       "        -3.16983260e-01],\n",
       "       [-4.19455604e-01, -5.94014188e-01,  1.61028357e-03,\n",
       "         1.47287383e-01, -7.85747143e-02,  7.37273246e-02,\n",
       "         2.06695325e-01, -2.35175951e-02,  4.91378532e-02,\n",
       "         3.39735216e-01, -2.94282398e-03,  6.12494574e-03,\n",
       "        -5.26062272e-01],\n",
       "       [-2.10920051e-01,  6.95242976e-01,  4.97112965e-03,\n",
       "        -1.66043366e-02, -1.02462759e-01, -7.11486134e-02,\n",
       "        -5.77055616e-02, -5.37546344e-03, -2.21548974e-02,\n",
       "        -3.50119387e-02, -7.80450237e-02, -6.85251258e-02,\n",
       "        -6.63646410e-01],\n",
       "       [-3.77238437e-01,  3.30327191e-01,  2.26064600e-02,\n",
       "         8.74521721e-03,  6.36990908e-02,  3.39119028e-01,\n",
       "         5.37142451e-01, -3.70442740e-02,  3.70822124e-01,\n",
       "         1.74404412e-01, -4.13117438e-02,  2.44117197e-01,\n",
       "         3.31373182e-01],\n",
       "       [-4.96380490e-02,  6.66843660e-02,  1.41294275e-01,\n",
       "        -3.87202129e-03,  1.09006802e-02,  1.97013073e-01,\n",
       "         3.11310317e-01, -2.04396850e-02, -9.02891975e-01,\n",
       "         3.31737573e-02,  1.60964841e-03,  1.33709706e-01,\n",
       "         5.14784655e-02],\n",
       "       [-1.13746781e-01,  1.87311810e-03, -2.86178861e-02,\n",
       "        -9.70468444e-03,  4.25569137e-03, -3.25986880e-01,\n",
       "        -2.92087073e-01,  1.01914680e-02, -3.49166387e-02,\n",
       "         1.13079947e-01, -2.25150224e-02,  8.83124061e-01,\n",
       "         4.40864217e-03],\n",
       "       [-9.09145457e-02, -5.05823107e-03,  2.76748523e-03,\n",
       "         3.29361490e-03, -5.19491114e-03,  7.99973313e-01,\n",
       "        -5.76702058e-01,  1.59537996e-02, -7.16808130e-03,\n",
       "         4.86651863e-03,  9.39553372e-02,  9.44707868e-02,\n",
       "        -3.22331692e-02],\n",
       "       [-6.68239589e-02,  3.13494427e-02,  7.26684469e-01,\n",
       "        -4.82533548e-02, -5.06393344e-03, -1.02410936e-01,\n",
       "        -2.35662733e-02,  2.24277517e-01,  8.35892787e-02,\n",
       "         2.88262844e-02,  6.28189901e-01, -1.81690570e-02,\n",
       "        -3.58626872e-03],\n",
       "       [-4.90630968e-02,  7.85308595e-02, -6.40759661e-01,\n",
       "         4.04266421e-02,  2.52236883e-03, -4.34245589e-02,\n",
       "         6.44667205e-02, -3.47328769e-02, -7.66160051e-02,\n",
       "         5.41374505e-02,  7.50337380e-01, -1.19743862e-02,\n",
       "         3.69178227e-03],\n",
       "       [-1.35418535e-02, -4.97006717e-03, -1.87631405e-01,\n",
       "        -2.33088075e-03,  1.82110610e-03,  3.23551385e-02,\n",
       "         5.50895191e-02,  9.72255978e-01, -2.43376409e-02,\n",
       "        -7.42493755e-04, -1.20626674e-01,  7.17461375e-03,\n",
       "        -4.36866015e-03]])"
      ]
     },
     "metadata": {},
     "execution_count": 8
    }
   ],
   "metadata": {}
  },
  {
   "cell_type": "code",
   "execution_count": 9,
   "source": [
    "# The amount of variance that each PCA has\r\n",
    "var=pca.explained_variance_ratio_\r\n",
    "var"
   ],
   "outputs": [
    {
     "output_type": "execute_result",
     "data": {
      "text/plain": [
       "array([9.77288307e-01, 1.34227214e-02, 4.52003698e-03, 1.61111671e-03,\n",
       "       1.27350433e-03, 9.18427421e-04, 6.29847297e-04, 1.19411256e-04,\n",
       "       8.89929288e-05, 6.48043129e-05, 3.15454807e-05, 2.26629171e-05,\n",
       "       8.62198254e-06])"
      ]
     },
     "metadata": {},
     "execution_count": 9
    }
   ],
   "metadata": {}
  },
  {
   "cell_type": "code",
   "execution_count": 10,
   "source": [
    "# Cummulative variance of each PCA\r\n",
    "var1=np.cumsum(np.round(var,4)*100)\r\n",
    "var1"
   ],
   "outputs": [
    {
     "output_type": "execute_result",
     "data": {
      "text/plain": [
       "array([97.73, 99.07, 99.52, 99.68, 99.81, 99.9 , 99.96, 99.97, 99.98,\n",
       "       99.99, 99.99, 99.99, 99.99])"
      ]
     },
     "metadata": {},
     "execution_count": 10
    }
   ],
   "metadata": {}
  },
  {
   "cell_type": "code",
   "execution_count": 11,
   "source": [
    "# Variance plot for PCA components obtained \r\n",
    "plt.plot(var1,color='red')"
   ],
   "outputs": [
    {
     "output_type": "execute_result",
     "data": {
      "text/plain": [
       "[<matplotlib.lines.Line2D at 0x2737d3aaca0>]"
      ]
     },
     "metadata": {},
     "execution_count": 11
    },
    {
     "output_type": "display_data",
     "data": {
      "image/png": "[encoded data removed]",
      "text/plain": [
       "<Figure size 432x288 with 1 Axes>"
      ]
     },
     "metadata": {
      "needs_background": "light"
     }
    }
   ],
   "metadata": {}
  },
  {
   "cell_type": "code",
   "execution_count": 12,
   "source": [
    "\r\n",
    "# Final Dataframe(Considering three Principle Planes 99.52%)\r\n",
    "final_df=pd.DataFrame(fitted_pca[:,0:3],columns=['PC1','PC2',\"PC3\"])\r\n",
    "final_df"
   ],
   "outputs": [
    {
     "output_type": "execute_result",
     "data": {
      "text/html": [
       "<div>\n",
       "<style scoped>\n",
       "    .dataframe tbody tr th:only-of-type {\n",
       "        vertical-align: middle;\n",
       "    }\n",
       "\n",
       "    .dataframe tbody tr th {\n",
       "        vertical-align: top;\n",
       "    }\n",
       "\n",
       "    .dataframe thead th {\n",
       "        text-align: right;\n",
       "    }\n",
       "</style>\n",
       "<table border=\"1\" class=\"dataframe\">\n",
       "  <thead>\n",
       "    <tr style=\"text-align: right;\">\n",
       "      <th></th>\n",
       "      <th>PC1</th>\n",
       "      <th>PC2</th>\n",
       "      <th>PC3</th>\n",
       "    </tr>\n",
       "  </thead>\n",
       "  <tbody>\n",
       "    <tr>\n",
       "      <th>0</th>\n",
       "      <td>-0.037425</td>\n",
       "      <td>0.008566</td>\n",
       "      <td>-0.000703</td>\n",
       "    </tr>\n",
       "    <tr>\n",
       "      <th>1</th>\n",
       "      <td>-0.061292</td>\n",
       "      <td>0.006263</td>\n",
       "      <td>-0.001594</td>\n",
       "    </tr>\n",
       "    <tr>\n",
       "      <th>2</th>\n",
       "      <td>-0.069781</td>\n",
       "      <td>-0.000652</td>\n",
       "      <td>-0.001750</td>\n",
       "    </tr>\n",
       "    <tr>\n",
       "      <th>3</th>\n",
       "      <td>-0.079461</td>\n",
       "      <td>0.001433</td>\n",
       "      <td>-0.001065</td>\n",
       "    </tr>\n",
       "    <tr>\n",
       "      <th>4</th>\n",
       "      <td>0.005421</td>\n",
       "      <td>0.005151</td>\n",
       "      <td>-0.000909</td>\n",
       "    </tr>\n",
       "    <tr>\n",
       "      <th>...</th>\n",
       "      <td>...</td>\n",
       "      <td>...</td>\n",
       "      <td>...</td>\n",
       "    </tr>\n",
       "    <tr>\n",
       "      <th>173</th>\n",
       "      <td>-0.024926</td>\n",
       "      <td>-0.003294</td>\n",
       "      <td>0.004729</td>\n",
       "    </tr>\n",
       "    <tr>\n",
       "      <th>174</th>\n",
       "      <td>-0.017195</td>\n",
       "      <td>-0.003465</td>\n",
       "      <td>0.003521</td>\n",
       "    </tr>\n",
       "    <tr>\n",
       "      <th>175</th>\n",
       "      <td>-0.011702</td>\n",
       "      <td>0.004963</td>\n",
       "      <td>0.006598</td>\n",
       "    </tr>\n",
       "    <tr>\n",
       "      <th>176</th>\n",
       "      <td>-0.012636</td>\n",
       "      <td>0.005245</td>\n",
       "      <td>0.005227</td>\n",
       "    </tr>\n",
       "    <tr>\n",
       "      <th>177</th>\n",
       "      <td>0.020230</td>\n",
       "      <td>-0.008875</td>\n",
       "      <td>0.008476</td>\n",
       "    </tr>\n",
       "  </tbody>\n",
       "</table>\n",
       "<p>178 rows × 3 columns</p>\n",
       "</div>"
      ],
      "text/plain": [
       "          PC1       PC2       PC3\n",
       "0   -0.037425  0.008566 -0.000703\n",
       "1   -0.061292  0.006263 -0.001594\n",
       "2   -0.069781 -0.000652 -0.001750\n",
       "3   -0.079461  0.001433 -0.001065\n",
       "4    0.005421  0.005151 -0.000909\n",
       "..        ...       ...       ...\n",
       "173 -0.024926 -0.003294  0.004729\n",
       "174 -0.017195 -0.003465  0.003521\n",
       "175 -0.011702  0.004963  0.006598\n",
       "176 -0.012636  0.005245  0.005227\n",
       "177  0.020230 -0.008875  0.008476\n",
       "\n",
       "[178 rows x 3 columns]"
      ]
     },
     "metadata": {},
     "execution_count": 12
    }
   ],
   "metadata": {}
  },
  {
   "cell_type": "markdown",
   "source": [
    "# 1. K-Means Clustering"
   ],
   "metadata": {}
  },
  {
   "cell_type": "code",
   "execution_count": 13,
   "source": [
    "# within-cluster sum-of-squares criterion \r\n",
    "wcss=[]\r\n",
    "for i in range (1,11):\r\n",
    "    kmeans=KMeans(n_clusters=i,random_state=2)\r\n",
    "    kmeans.fit(final_df)\r\n",
    "    wcss.append(kmeans.inertia_)"
   ],
   "outputs": [],
   "metadata": {}
  },
  {
   "cell_type": "code",
   "execution_count": 14,
   "source": [
    "# Plot K values range vs WCSS to get Elbow graph for choosing K (no. of clusters)\r\n",
    "plt.plot(range(1,11),wcss)\r\n",
    "plt.title('Elbow Graph')\r\n",
    "plt.xlabel('Number of clusters')\r\n",
    "plt.ylabel('WCSS')\r\n",
    "plt.show()\r\n"
   ],
   "outputs": [
    {
     "output_type": "display_data",
     "data": {
      "image/png": "[encoded data removed]",
      "text/plain": [
       "<Figure size 432x288 with 1 Axes>"
      ]
     },
     "metadata": {
      "needs_background": "light"
     }
    }
   ],
   "metadata": {}
  },
  {
   "cell_type": "markdown",
   "source": [
    "# Build Cluster algorithm using K=3"
   ],
   "metadata": {}
  },
  {
   "cell_type": "code",
   "execution_count": 15,
   "source": [
    "# Cluster algorithm using K=3\r\n",
    "kmeans=KMeans(3,random_state=30).fit(final_df)\r\n",
    "kmeans"
   ],
   "outputs": [
    {
     "output_type": "execute_result",
     "data": {
      "text/plain": [
       "KMeans(n_clusters=3, random_state=30)"
      ]
     },
     "metadata": {},
     "execution_count": 15
    }
   ],
   "metadata": {}
  },
  {
   "cell_type": "code",
   "execution_count": 16,
   "source": [
    "data_y[\"KMeans\"] = kmeans.labels_\r\n",
    "data_y"
   ],
   "outputs": [
    {
     "output_type": "execute_result",
     "data": {
      "text/html": [
       "<div>\n",
       "<style scoped>\n",
       "    .dataframe tbody tr th:only-of-type {\n",
       "        vertical-align: middle;\n",
       "    }\n",
       "\n",
       "    .dataframe tbody tr th {\n",
       "        vertical-align: top;\n",
       "    }\n",
       "\n",
       "    .dataframe thead th {\n",
       "        text-align: right;\n",
       "    }\n",
       "</style>\n",
       "<table border=\"1\" class=\"dataframe\">\n",
       "  <thead>\n",
       "    <tr style=\"text-align: right;\">\n",
       "      <th></th>\n",
       "      <th>Type</th>\n",
       "      <th>KMeans</th>\n",
       "    </tr>\n",
       "  </thead>\n",
       "  <tbody>\n",
       "    <tr>\n",
       "      <th>0</th>\n",
       "      <td>1</td>\n",
       "      <td>2</td>\n",
       "    </tr>\n",
       "    <tr>\n",
       "      <th>1</th>\n",
       "      <td>1</td>\n",
       "      <td>2</td>\n",
       "    </tr>\n",
       "    <tr>\n",
       "      <th>2</th>\n",
       "      <td>1</td>\n",
       "      <td>2</td>\n",
       "    </tr>\n",
       "    <tr>\n",
       "      <th>3</th>\n",
       "      <td>1</td>\n",
       "      <td>2</td>\n",
       "    </tr>\n",
       "    <tr>\n",
       "      <th>4</th>\n",
       "      <td>1</td>\n",
       "      <td>0</td>\n",
       "    </tr>\n",
       "    <tr>\n",
       "      <th>...</th>\n",
       "      <td>...</td>\n",
       "      <td>...</td>\n",
       "    </tr>\n",
       "    <tr>\n",
       "      <th>173</th>\n",
       "      <td>3</td>\n",
       "      <td>0</td>\n",
       "    </tr>\n",
       "    <tr>\n",
       "      <th>174</th>\n",
       "      <td>3</td>\n",
       "      <td>0</td>\n",
       "    </tr>\n",
       "    <tr>\n",
       "      <th>175</th>\n",
       "      <td>3</td>\n",
       "      <td>0</td>\n",
       "    </tr>\n",
       "    <tr>\n",
       "      <th>176</th>\n",
       "      <td>3</td>\n",
       "      <td>0</td>\n",
       "    </tr>\n",
       "    <tr>\n",
       "      <th>177</th>\n",
       "      <td>3</td>\n",
       "      <td>0</td>\n",
       "    </tr>\n",
       "  </tbody>\n",
       "</table>\n",
       "<p>178 rows × 2 columns</p>\n",
       "</div>"
      ],
      "text/plain": [
       "     Type  KMeans\n",
       "0       1       2\n",
       "1       1       2\n",
       "2       1       2\n",
       "3       1       2\n",
       "4       1       0\n",
       "..    ...     ...\n",
       "173     3       0\n",
       "174     3       0\n",
       "175     3       0\n",
       "176     3       0\n",
       "177     3       0\n",
       "\n",
       "[178 rows x 2 columns]"
      ]
     },
     "metadata": {},
     "execution_count": 16
    }
   ],
   "metadata": {}
  },
  {
   "cell_type": "markdown",
   "source": [
    "# 2. Hierarchical Clustering"
   ],
   "metadata": {}
  },
  {
   "cell_type": "code",
   "execution_count": 17,
   "source": [
    "plt.figure(figsize=(20,10))\r\n",
    "dendrogram=sch.dendrogram(sch.linkage(final_df,'complete'))\r\n"
   ],
   "outputs": [
    {
     "output_type": "display_data",
     "data": {
      "image/png": "[encoded data removed]",
      "text/plain": [
       "<Figure size 1440x720 with 1 Axes>"
      ]
     },
     "metadata": {
      "needs_background": "light"
     }
    }
   ],
   "metadata": {}
  },
  {
   "cell_type": "code",
   "execution_count": 18,
   "source": [
    "# Create Clusters\r\n",
    "Hierarchical=AgglomerativeClustering(n_clusters=3,affinity='euclidean',linkage='ward')\r\n",
    "Hierarchical.fit_predict(final_df)"
   ],
   "outputs": [
    {
     "output_type": "execute_result",
     "data": {
      "text/plain": [
       "array([0, 2, 2, 2, 0, 2, 2, 2, 2, 2, 2, 2, 2, 2, 2, 2, 2, 2, 2, 0, 0, 0,\n",
       "       2, 2, 0, 0, 2, 2, 0, 2, 2, 2, 2, 2, 2, 2, 0, 2, 2, 0, 0, 2, 2, 0,\n",
       "       0, 2, 2, 2, 2, 2, 2, 2, 2, 2, 2, 2, 0, 2, 2, 0, 0, 1, 0, 1, 1, 0,\n",
       "       0, 0, 0, 0, 0, 1, 0, 0, 0, 1, 1, 1, 0, 1, 1, 0, 0, 0, 0, 1, 0, 0,\n",
       "       0, 0, 0, 0, 0, 1, 1, 0, 0, 0, 0, 1, 0, 0, 1, 1, 0, 1, 0, 0, 1, 0,\n",
       "       0, 1, 0, 1, 1, 1, 0, 1, 1, 0, 0, 1, 1, 1, 1, 1, 1, 1, 1, 0, 0, 0,\n",
       "       0, 0, 0, 0, 0, 0, 0, 0, 0, 0, 0, 0, 0, 0, 0, 0, 0, 0, 1, 1, 1, 0,\n",
       "       0, 0, 0, 0, 0, 0, 0, 0, 0, 0, 0, 0, 0, 0, 0, 0, 0, 0, 0, 0, 0, 0,\n",
       "       0, 0], dtype=int64)"
      ]
     },
     "metadata": {},
     "execution_count": 18
    }
   ],
   "metadata": {}
  },
  {
   "cell_type": "code",
   "execution_count": 19,
   "source": [
    "data_y[\"Hierarchical\"] = Hierarchical.labels_\r\n",
    "data_y.rename(mapper={\"Type\":\"Original\"},axis=1,inplace=True)\r\n",
    "data_y"
   ],
   "outputs": [
    {
     "output_type": "execute_result",
     "data": {
      "text/html": [
       "<div>\n",
       "<style scoped>\n",
       "    .dataframe tbody tr th:only-of-type {\n",
       "        vertical-align: middle;\n",
       "    }\n",
       "\n",
       "    .dataframe tbody tr th {\n",
       "        vertical-align: top;\n",
       "    }\n",
       "\n",
       "    .dataframe thead th {\n",
       "        text-align: right;\n",
       "    }\n",
       "</style>\n",
       "<table border=\"1\" class=\"dataframe\">\n",
       "  <thead>\n",
       "    <tr style=\"text-align: right;\">\n",
       "      <th></th>\n",
       "      <th>Original</th>\n",
       "      <th>KMeans</th>\n",
       "      <th>Hierarchical</th>\n",
       "    </tr>\n",
       "  </thead>\n",
       "  <tbody>\n",
       "    <tr>\n",
       "      <th>0</th>\n",
       "      <td>1</td>\n",
       "      <td>2</td>\n",
       "      <td>0</td>\n",
       "    </tr>\n",
       "    <tr>\n",
       "      <th>1</th>\n",
       "      <td>1</td>\n",
       "      <td>2</td>\n",
       "      <td>2</td>\n",
       "    </tr>\n",
       "    <tr>\n",
       "      <th>2</th>\n",
       "      <td>1</td>\n",
       "      <td>2</td>\n",
       "      <td>2</td>\n",
       "    </tr>\n",
       "    <tr>\n",
       "      <th>3</th>\n",
       "      <td>1</td>\n",
       "      <td>2</td>\n",
       "      <td>2</td>\n",
       "    </tr>\n",
       "    <tr>\n",
       "      <th>4</th>\n",
       "      <td>1</td>\n",
       "      <td>0</td>\n",
       "      <td>0</td>\n",
       "    </tr>\n",
       "    <tr>\n",
       "      <th>...</th>\n",
       "      <td>...</td>\n",
       "      <td>...</td>\n",
       "      <td>...</td>\n",
       "    </tr>\n",
       "    <tr>\n",
       "      <th>173</th>\n",
       "      <td>3</td>\n",
       "      <td>0</td>\n",
       "      <td>0</td>\n",
       "    </tr>\n",
       "    <tr>\n",
       "      <th>174</th>\n",
       "      <td>3</td>\n",
       "      <td>0</td>\n",
       "      <td>0</td>\n",
       "    </tr>\n",
       "    <tr>\n",
       "      <th>175</th>\n",
       "      <td>3</td>\n",
       "      <td>0</td>\n",
       "      <td>0</td>\n",
       "    </tr>\n",
       "    <tr>\n",
       "      <th>176</th>\n",
       "      <td>3</td>\n",
       "      <td>0</td>\n",
       "      <td>0</td>\n",
       "    </tr>\n",
       "    <tr>\n",
       "      <th>177</th>\n",
       "      <td>3</td>\n",
       "      <td>0</td>\n",
       "      <td>0</td>\n",
       "    </tr>\n",
       "  </tbody>\n",
       "</table>\n",
       "<p>178 rows × 3 columns</p>\n",
       "</div>"
      ],
      "text/plain": [
       "     Original  KMeans  Hierarchical\n",
       "0           1       2             0\n",
       "1           1       2             2\n",
       "2           1       2             2\n",
       "3           1       2             2\n",
       "4           1       0             0\n",
       "..        ...     ...           ...\n",
       "173         3       0             0\n",
       "174         3       0             0\n",
       "175         3       0             0\n",
       "176         3       0             0\n",
       "177         3       0             0\n",
       "\n",
       "[178 rows x 3 columns]"
      ]
     },
     "metadata": {},
     "execution_count": 19
    }
   ],
   "metadata": {}
  },
  {
   "cell_type": "markdown",
   "source": [
    "# Visualizing By considering two Principle Planes"
   ],
   "metadata": {}
  },
  {
   "cell_type": "code",
   "execution_count": 20,
   "source": [
    "for i in range(3):\r\n",
    "    plt.title(data_y.columns[i])\r\n",
    "    sns.scatterplot(final_df[\"PC1\"],final_df[\"PC2\"],hue=data_y.iloc[:,i])\r\n",
    "    plt.show()\r\n",
    "    "
   ],
   "outputs": [
    {
     "output_type": "stream",
     "name": "stderr",
     "text": [
      "C:\\Users\\AkashMY\\AppData\\Local\\Programs\\Python\\Python39\\lib\\site-packages\\seaborn\\_decorators.py:36: FutureWarning: Pass the following variables as keyword args: x, y. From version 0.12, the only valid positional argument will be `data`, and passing other arguments without an explicit keyword will result in an error or misinterpretation.\n",
      "  warnings.warn(\n"
     ]
    },
    {
     "output_type": "display_data",
     "data": {
      "image/png": "[encoded data removed]",
      "text/plain": [
       "<Figure size 432x288 with 1 Axes>"
      ]
     },
     "metadata": {
      "needs_background": "light"
     }
    },
    {
     "output_type": "stream",
     "name": "stderr",
     "text": [
      "C:\\Users\\AkashMY\\AppData\\Local\\Programs\\Python\\Python39\\lib\\site-packages\\seaborn\\_decorators.py:36: FutureWarning: Pass the following variables as keyword args: x, y. From version 0.12, the only valid positional argument will be `data`, and passing other arguments without an explicit keyword will result in an error or misinterpretation.\n",
      "  warnings.warn(\n"
     ]
    },
    {
     "output_type": "display_data",
     "data": {
      "image/png": "[encoded data removed]",
      "text/plain": [
       "<Figure size 432x288 with 1 Axes>"
      ]
     },
     "metadata": {
      "needs_background": "light"
     }
    },
    {
     "output_type": "stream",
     "name": "stderr",
     "text": [
      "C:\\Users\\AkashMY\\AppData\\Local\\Programs\\Python\\Python39\\lib\\site-packages\\seaborn\\_decorators.py:36: FutureWarning: Pass the following variables as keyword args: x, y. From version 0.12, the only valid positional argument will be `data`, and passing other arguments without an explicit keyword will result in an error or misinterpretation.\n",
      "  warnings.warn(\n"
     ]
    },
    {
     "output_type": "display_data",
     "data": {
      "image/png": "[encoded data removed]",
      "text/plain": [
       "<Figure size 432x288 with 1 Axes>"
      ]
     },
     "metadata": {
      "needs_background": "light"
     }
    }
   ],
   "metadata": {}
  },
  {
   "cell_type": "code",
   "execution_count": null,
   "source": [],
   "outputs": [],
   "metadata": {}
  }
 ],
 "metadata": {
  "orig_nbformat": 4,
  "language_info": {
   "name": "python",
   "version": "3.9.7",
   "mimetype": "text/x-python",
   "codemirror_mode": {
    "name": "ipython",
    "version": 3
   },
   "pygments_lexer": "ipython3",
   "nbconvert_exporter": "python",
   "file_extension": ".py"
  },
  "kernelspec": {
   "name": "python3",
   "display_name": "Python 3.9.7 64-bit"
  },
  "interpreter": {
   "hash": "35392685bbf6d6fe64763da41ae73229a64a62133a14e535f59b1730fb7cb56a"
  }
 },
 "nbformat": 4,
 "nbformat_minor": 2
}