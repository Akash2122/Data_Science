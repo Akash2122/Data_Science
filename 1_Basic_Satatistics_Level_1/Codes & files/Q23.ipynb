{
 "cells": [
  {
   "cell_type": "code",
   "execution_count": 1,
   "id": "64944314",
   "metadata": {},
   "outputs": [],
   "source": [
    "from scipy import stats"
   ]
  },
  {
   "cell_type": "markdown",
   "id": "ebeb9a13",
   "metadata": {},
   "source": [
    "# 95%"
   ]
  },
  {
   "cell_type": "code",
   "execution_count": 2,
   "id": "b356ce33",
   "metadata": {},
   "outputs": [
    {
     "data": {
      "text/plain": [
       "-2.0595385527532946"
      ]
     },
     "execution_count": 2,
     "metadata": {},
     "output_type": "execute_result"
    }
   ],
   "source": [
    "stats.t.ppf(q=0.025,df=25,loc=0,scale=1)\n",
    "#ppf(q, df, loc=0, scale=1)"
   ]
  },
  {
   "cell_type": "code",
   "execution_count": 3,
   "id": "e66ed81d",
   "metadata": {},
   "outputs": [
    {
     "data": {
      "text/plain": [
       "2.059538552753294"
      ]
     },
     "execution_count": 3,
     "metadata": {},
     "output_type": "execute_result"
    }
   ],
   "source": [
    "stats.t.ppf(q=0.975,df=25,loc=0,scale=1)\n",
    "#ppf(q, df, loc=0, scale=1)"
   ]
  },
  {
   "cell_type": "raw",
   "id": "6b63a617",
   "metadata": {},
   "source": [
    "or"
   ]
  },
  {
   "cell_type": "code",
   "execution_count": 4,
   "id": "8ed0f485",
   "metadata": {},
   "outputs": [
    {
     "data": {
      "text/plain": [
       "(-2.059538552753294, 2.059538552753294)"
      ]
     },
     "execution_count": 4,
     "metadata": {},
     "output_type": "execute_result"
    }
   ],
   "source": [
    "stats.t.interval(alpha=0.95,df=25,loc=0,scale=1)\n",
    "#interval(alpha, df, loc=0, scale=1)"
   ]
  },
  {
   "cell_type": "markdown",
   "id": "76aa5bff",
   "metadata": {},
   "source": [
    "# 96%"
   ]
  },
  {
   "cell_type": "code",
   "execution_count": 5,
   "id": "6b0011a2",
   "metadata": {},
   "outputs": [
    {
     "data": {
      "text/plain": [
       "-2.1665866344527567"
      ]
     },
     "execution_count": 5,
     "metadata": {},
     "output_type": "execute_result"
    }
   ],
   "source": [
    "stats.t.ppf(q=0.02,df=25,loc=0,scale=1)\n",
    "#ppf(q, df, loc=0, scale=1)"
   ]
  },
  {
   "cell_type": "code",
   "execution_count": 6,
   "id": "dea4c793",
   "metadata": {},
   "outputs": [
    {
     "data": {
      "text/plain": [
       "2.1665866344527562"
      ]
     },
     "execution_count": 6,
     "metadata": {},
     "output_type": "execute_result"
    }
   ],
   "source": [
    "stats.t.ppf(q=0.98,df=25,loc=0,scale=1)\n",
    "#ppf(q, df, loc=0, scale=1)"
   ]
  },
  {
   "cell_type": "markdown",
   "id": "fd04ff5f",
   "metadata": {},
   "source": [
    "or"
   ]
  },
  {
   "cell_type": "code",
   "execution_count": 7,
   "id": "dc2d747d",
   "metadata": {},
   "outputs": [
    {
     "data": {
      "text/plain": [
       "(-2.1665866344527562, 2.1665866344527562)"
      ]
     },
     "execution_count": 7,
     "metadata": {},
     "output_type": "execute_result"
    }
   ],
   "source": [
    "stats.t.interval(alpha=0.96,df=25,loc=0,scale=1)\n",
    "#interval(alpha, df, loc=0, scale=1)"
   ]
  },
  {
   "cell_type": "markdown",
   "id": "9fde3912",
   "metadata": {},
   "source": [
    "# 99%"
   ]
  },
  {
   "cell_type": "code",
   "execution_count": 8,
   "id": "01f52bc3",
   "metadata": {},
   "outputs": [
    {
     "data": {
      "text/plain": [
       "-2.7874358136758515"
      ]
     },
     "execution_count": 8,
     "metadata": {},
     "output_type": "execute_result"
    }
   ],
   "source": [
    "stats.t.ppf(q=0.005,df=25,loc=0,scale=1)\n",
    "#ppf(q, df, loc=0, scale=1)"
   ]
  },
  {
   "cell_type": "code",
   "execution_count": 9,
   "id": "9a5f14c4",
   "metadata": {},
   "outputs": [
    {
     "data": {
      "text/plain": [
       "2.787435813675851"
      ]
     },
     "execution_count": 9,
     "metadata": {},
     "output_type": "execute_result"
    }
   ],
   "source": [
    "stats.t.ppf(q=0.995,df=25,loc=0,scale=1)\n",
    "#ppf(q, df, loc=0, scale=1)"
   ]
  },
  {
   "cell_type": "markdown",
   "id": "f1d2bbcd",
   "metadata": {},
   "source": [
    "or"
   ]
  },
  {
   "cell_type": "code",
   "execution_count": 10,
   "id": "4ffce590",
   "metadata": {},
   "outputs": [
    {
     "data": {
      "text/plain": [
       "(-2.787435813675851, 2.787435813675851)"
      ]
     },
     "execution_count": 10,
     "metadata": {},
     "output_type": "execute_result"
    }
   ],
   "source": [
    "stats.t.interval(alpha=0.99,df=25,loc=0,scale=1)\n",
    "#interval(alpha, df, loc=0, scale=1)"
   ]
  },
  {
   "cell_type": "markdown",
   "id": "f9ea7b7d",
   "metadata": {},
   "source": [
    "# "
   ]
  },
  {
   "cell_type": "code",
   "execution_count": null,
   "id": "18864a64",
   "metadata": {},
   "outputs": [],
   "source": []
  }
 ],
 "metadata": {
  "kernelspec": {
   "display_name": "Python 3",
   "language": "python",
   "name": "python3"
  },
  "language_info": {
   "codemirror_mode": {
    "name": "ipython",
    "version": 3
   },
   "file_extension": ".py",
   "mimetype": "text/x-python",
   "name": "python",
   "nbconvert_exporter": "python",
   "pygments_lexer": "ipython3",
   "version": "3.8.8"
  }
 },
 "nbformat": 4,
 "nbformat_minor": 5
}
