{
 "cells": [
  {
   "cell_type": "code",
   "execution_count": 1,
   "id": "2e909265",
   "metadata": {},
   "outputs": [],
   "source": [
    "import pandas \n",
    "import numpy"
   ]
  },
  {
   "cell_type": "code",
   "execution_count": 2,
   "id": "e343de74",
   "metadata": {},
   "outputs": [],
   "source": [
    "Marks = [34,36,36,38,38,39,39,40,40,41,41,41,41,42,42,45,49,56]"
   ]
  },
  {
   "cell_type": "code",
   "execution_count": 3,
   "id": "5025d1d3",
   "metadata": {},
   "outputs": [],
   "source": [
    "Marks = pandas.Series(Marks)"
   ]
  },
  {
   "cell_type": "code",
   "execution_count": 4,
   "id": "4434fec4",
   "metadata": {},
   "outputs": [
    {
     "data": {
      "text/plain": [
       "41.0"
      ]
     },
     "execution_count": 4,
     "metadata": {},
     "output_type": "execute_result"
    }
   ],
   "source": [
    "Marks.mean() # MEAN"
   ]
  },
  {
   "cell_type": "code",
   "execution_count": 5,
   "id": "7c20d92a",
   "metadata": {},
   "outputs": [
    {
     "data": {
      "text/plain": [
       "40.5"
      ]
     },
     "execution_count": 5,
     "metadata": {},
     "output_type": "execute_result"
    }
   ],
   "source": [
    "Marks.median() # MEDIAN"
   ]
  },
  {
   "cell_type": "code",
   "execution_count": 6,
   "id": "42f4305b",
   "metadata": {},
   "outputs": [
    {
     "data": {
      "text/plain": [
       "0    41\n",
       "dtype: int64"
      ]
     },
     "execution_count": 6,
     "metadata": {},
     "output_type": "execute_result"
    }
   ],
   "source": [
    "Marks.mode() # MODE"
   ]
  },
  {
   "cell_type": "code",
   "execution_count": 7,
   "id": "5438a0fc",
   "metadata": {},
   "outputs": [
    {
     "data": {
      "text/plain": [
       "25.529411764705884"
      ]
     },
     "execution_count": 7,
     "metadata": {},
     "output_type": "execute_result"
    }
   ],
   "source": [
    "Marks.var() # VARIANCE"
   ]
  },
  {
   "cell_type": "code",
   "execution_count": 8,
   "id": "06de99a3",
   "metadata": {},
   "outputs": [
    {
     "data": {
      "text/plain": [
       "5.05266382858645"
      ]
     },
     "execution_count": 8,
     "metadata": {},
     "output_type": "execute_result"
    }
   ],
   "source": [
    "Marks.std() # STANDARD DEVIATION"
   ]
  },
  {
   "cell_type": "code",
   "execution_count": 9,
   "id": "419bfc4a",
   "metadata": {},
   "outputs": [
    {
     "data": {
      "text/plain": [
       "22"
      ]
     },
     "execution_count": 9,
     "metadata": {},
     "output_type": "execute_result"
    }
   ],
   "source": [
    "numpy.ptp(Marks) # RANNGE"
   ]
  },
  {
   "cell_type": "markdown",
   "id": "8c324a89",
   "metadata": {},
   "source": [
    "# "
   ]
  },
  {
   "cell_type": "code",
   "execution_count": null,
   "id": "f0cc58f6",
   "metadata": {},
   "outputs": [],
   "source": []
  }
 ],
 "metadata": {
  "kernelspec": {
   "display_name": "Python 3",
   "language": "python",
   "name": "python3"
  },
  "language_info": {
   "codemirror_mode": {
    "name": "ipython",
    "version": 3
   },
   "file_extension": ".py",
   "mimetype": "text/x-python",
   "name": "python",
   "nbconvert_exporter": "python",
   "pygments_lexer": "ipython3",
   "version": "3.8.8"
  }
 },
 "nbformat": 4,
 "nbformat_minor": 5
}
