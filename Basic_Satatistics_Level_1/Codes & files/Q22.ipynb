{
 "cells": [
  {
   "cell_type": "code",
   "execution_count": 1,
   "id": "017e19e0",
   "metadata": {},
   "outputs": [],
   "source": [
    "from scipy import stats"
   ]
  },
  {
   "cell_type": "markdown",
   "id": "c2abd10e",
   "metadata": {},
   "source": [
    "# 90%"
   ]
  },
  {
   "cell_type": "code",
   "execution_count": 2,
   "id": "9a4b4810",
   "metadata": {},
   "outputs": [
    {
     "data": {
      "text/plain": [
       "-1.6448536269514729"
      ]
     },
     "execution_count": 2,
     "metadata": {},
     "output_type": "execute_result"
    }
   ],
   "source": [
    "stats.norm.ppf(q=0.05,loc=0,scale=1)\n",
    "#ppf(q, loc=0, scale=1)"
   ]
  },
  {
   "cell_type": "code",
   "execution_count": 3,
   "id": "36e84ae8",
   "metadata": {},
   "outputs": [
    {
     "data": {
      "text/plain": [
       "1.6448536269514722"
      ]
     },
     "execution_count": 3,
     "metadata": {},
     "output_type": "execute_result"
    }
   ],
   "source": [
    "stats.norm.ppf(q=0.95, loc=0, scale=1)"
   ]
  },
  {
   "cell_type": "markdown",
   "id": "a3ef1947",
   "metadata": {},
   "source": [
    "or"
   ]
  },
  {
   "cell_type": "code",
   "execution_count": 4,
   "id": "25a29ae6",
   "metadata": {},
   "outputs": [
    {
     "data": {
      "text/plain": [
       "(-1.6448536269514729, 1.6448536269514722)"
      ]
     },
     "execution_count": 4,
     "metadata": {},
     "output_type": "execute_result"
    }
   ],
   "source": [
    "stats.norm.interval(alpha=0.90,loc=0,scale=1)\n",
    "#interval(alpha, loc=0, scale=1)"
   ]
  },
  {
   "cell_type": "markdown",
   "id": "40d578b8",
   "metadata": {},
   "source": [
    "# 94%"
   ]
  },
  {
   "cell_type": "code",
   "execution_count": 5,
   "id": "91ee8db7",
   "metadata": {},
   "outputs": [
    {
     "data": {
      "text/plain": [
       "-1.880793608151251"
      ]
     },
     "execution_count": 5,
     "metadata": {},
     "output_type": "execute_result"
    }
   ],
   "source": [
    "stats.norm.ppf(q=0.03,loc=0,scale=1)\n",
    "#ppf(q, loc=0, scale=1)"
   ]
  },
  {
   "cell_type": "code",
   "execution_count": 6,
   "id": "50bc2e6c",
   "metadata": {},
   "outputs": [
    {
     "data": {
      "text/plain": [
       "1.8807936081512509"
      ]
     },
     "execution_count": 6,
     "metadata": {},
     "output_type": "execute_result"
    }
   ],
   "source": [
    "stats.norm.ppf(q=0.97,loc=0,scale=1)\n",
    "#ppf(q, loc=0, scale=1)"
   ]
  },
  {
   "cell_type": "markdown",
   "id": "824e0bae",
   "metadata": {},
   "source": [
    "or"
   ]
  },
  {
   "cell_type": "code",
   "execution_count": 7,
   "id": "bacb1e3c",
   "metadata": {},
   "outputs": [
    {
     "data": {
      "text/plain": [
       "(-1.8807936081512509, 1.8807936081512509)"
      ]
     },
     "execution_count": 7,
     "metadata": {},
     "output_type": "execute_result"
    }
   ],
   "source": [
    "stats.norm.interval(alpha=0.94,loc=0,scale=1)\n",
    "#interval(alpha, loc=0, scale=1)"
   ]
  },
  {
   "cell_type": "markdown",
   "id": "9272a478",
   "metadata": {},
   "source": [
    "# 60%"
   ]
  },
  {
   "cell_type": "code",
   "execution_count": 8,
   "id": "38bdbdbe",
   "metadata": {},
   "outputs": [
    {
     "data": {
      "text/plain": [
       "-0.8416212335729142"
      ]
     },
     "execution_count": 8,
     "metadata": {},
     "output_type": "execute_result"
    }
   ],
   "source": [
    "stats.norm.ppf(q=0.2,loc=0,scale=1)\n",
    "#ppf(q, loc=0, scale=1)"
   ]
  },
  {
   "cell_type": "code",
   "execution_count": 9,
   "id": "ff2f46df",
   "metadata": {},
   "outputs": [
    {
     "data": {
      "text/plain": [
       "0.8416212335729143"
      ]
     },
     "execution_count": 9,
     "metadata": {},
     "output_type": "execute_result"
    }
   ],
   "source": [
    "stats.norm.ppf(q=0.80,loc=0,scale=1)\n",
    "#ppf(q, loc=0, scale=1)"
   ]
  },
  {
   "cell_type": "markdown",
   "id": "e9de03ea",
   "metadata": {},
   "source": [
    "or"
   ]
  },
  {
   "cell_type": "code",
   "execution_count": 10,
   "id": "71e886b6",
   "metadata": {},
   "outputs": [
    {
     "data": {
      "text/plain": [
       "(-0.8416212335729142, 0.8416212335729143)"
      ]
     },
     "execution_count": 10,
     "metadata": {},
     "output_type": "execute_result"
    }
   ],
   "source": [
    "stats.norm.interval(alpha=0.60,loc=0,scale=1)\n",
    "#interval(alpha, loc=0, scale=1)"
   ]
  },
  {
   "cell_type": "code",
   "execution_count": null,
   "id": "4375e9d3",
   "metadata": {},
   "outputs": [],
   "source": []
  }
 ],
 "metadata": {
  "kernelspec": {
   "display_name": "Python 3",
   "language": "python",
   "name": "python3"
  },
  "language_info": {
   "codemirror_mode": {
    "name": "ipython",
    "version": 3
   },
   "file_extension": ".py",
   "mimetype": "text/x-python",
   "name": "python",
   "nbconvert_exporter": "python",
   "pygments_lexer": "ipython3",
   "version": "3.8.8"
  }
 },
 "nbformat": 4,
 "nbformat_minor": 5
}
