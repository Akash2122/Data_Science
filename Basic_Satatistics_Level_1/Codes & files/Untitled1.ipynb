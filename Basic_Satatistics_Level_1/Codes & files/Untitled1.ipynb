{
 "cells": [
  {
   "cell_type": "code",
   "execution_count": 1,
   "id": "103be9f3",
   "metadata": {},
   "outputs": [],
   "source": [
    "from scipy import stats \n",
    "import pandas\n",
    "import numpy as np"
   ]
  },
  {
   "cell_type": "code",
   "execution_count": 2,
   "id": "c2548bad",
   "metadata": {},
   "outputs": [
    {
     "data": {
      "text/html": [
       "<div>\n",
       "<style scoped>\n",
       "    .dataframe tbody tr th:only-of-type {\n",
       "        vertical-align: middle;\n",
       "    }\n",
       "\n",
       "    .dataframe tbody tr th {\n",
       "        vertical-align: top;\n",
       "    }\n",
       "\n",
       "    .dataframe thead th {\n",
       "        text-align: right;\n",
       "    }\n",
       "</style>\n",
       "<table border=\"1\" class=\"dataframe\">\n",
       "  <thead>\n",
       "    <tr style=\"text-align: right;\">\n",
       "      <th></th>\n",
       "      <th>Unnamed: 0</th>\n",
       "      <th>Points</th>\n",
       "      <th>Score</th>\n",
       "      <th>Weigh</th>\n",
       "    </tr>\n",
       "  </thead>\n",
       "  <tbody>\n",
       "    <tr>\n",
       "      <th>0</th>\n",
       "      <td>Mazda RX4</td>\n",
       "      <td>3.90</td>\n",
       "      <td>2.620</td>\n",
       "      <td>16.46</td>\n",
       "    </tr>\n",
       "    <tr>\n",
       "      <th>1</th>\n",
       "      <td>Mazda RX4 Wag</td>\n",
       "      <td>3.90</td>\n",
       "      <td>2.875</td>\n",
       "      <td>17.02</td>\n",
       "    </tr>\n",
       "    <tr>\n",
       "      <th>2</th>\n",
       "      <td>Datsun 710</td>\n",
       "      <td>3.85</td>\n",
       "      <td>2.320</td>\n",
       "      <td>18.61</td>\n",
       "    </tr>\n",
       "    <tr>\n",
       "      <th>3</th>\n",
       "      <td>Hornet 4 Drive</td>\n",
       "      <td>3.08</td>\n",
       "      <td>3.215</td>\n",
       "      <td>19.44</td>\n",
       "    </tr>\n",
       "    <tr>\n",
       "      <th>4</th>\n",
       "      <td>Hornet Sportabout</td>\n",
       "      <td>3.15</td>\n",
       "      <td>3.440</td>\n",
       "      <td>17.02</td>\n",
       "    </tr>\n",
       "  </tbody>\n",
       "</table>\n",
       "</div>"
      ],
      "text/plain": [
       "          Unnamed: 0  Points  Score  Weigh\n",
       "0          Mazda RX4    3.90  2.620  16.46\n",
       "1      Mazda RX4 Wag    3.90  2.875  17.02\n",
       "2         Datsun 710    3.85  2.320  18.61\n",
       "3     Hornet 4 Drive    3.08  3.215  19.44\n",
       "4  Hornet Sportabout    3.15  3.440  17.02"
      ]
     },
     "execution_count": 2,
     "metadata": {},
     "output_type": "execute_result"
    }
   ],
   "source": [
    "data= pandas.read_csv(\"Q7.csv\")\n",
    "data.head(5)"
   ]
  },
  {
   "cell_type": "code",
   "execution_count": 3,
   "id": "75ea9b13",
   "metadata": {},
   "outputs": [
    {
     "data": {
      "text/html": [
       "<div>\n",
       "<style scoped>\n",
       "    .dataframe tbody tr th:only-of-type {\n",
       "        vertical-align: middle;\n",
       "    }\n",
       "\n",
       "    .dataframe tbody tr th {\n",
       "        vertical-align: top;\n",
       "    }\n",
       "\n",
       "    .dataframe thead th {\n",
       "        text-align: right;\n",
       "    }\n",
       "</style>\n",
       "<table border=\"1\" class=\"dataframe\">\n",
       "  <thead>\n",
       "    <tr style=\"text-align: right;\">\n",
       "      <th></th>\n",
       "      <th>Points</th>\n",
       "      <th>Score</th>\n",
       "      <th>Weigh</th>\n",
       "    </tr>\n",
       "  </thead>\n",
       "  <tbody>\n",
       "    <tr>\n",
       "      <th>count</th>\n",
       "      <td>32.000000</td>\n",
       "      <td>32.000000</td>\n",
       "      <td>32.000000</td>\n",
       "    </tr>\n",
       "    <tr>\n",
       "      <th>mean</th>\n",
       "      <td>3.596563</td>\n",
       "      <td>3.217250</td>\n",
       "      <td>17.848750</td>\n",
       "    </tr>\n",
       "    <tr>\n",
       "      <th>std</th>\n",
       "      <td>0.534679</td>\n",
       "      <td>0.978457</td>\n",
       "      <td>1.786943</td>\n",
       "    </tr>\n",
       "    <tr>\n",
       "      <th>min</th>\n",
       "      <td>2.760000</td>\n",
       "      <td>1.513000</td>\n",
       "      <td>14.500000</td>\n",
       "    </tr>\n",
       "    <tr>\n",
       "      <th>25%</th>\n",
       "      <td>3.080000</td>\n",
       "      <td>2.581250</td>\n",
       "      <td>16.892500</td>\n",
       "    </tr>\n",
       "    <tr>\n",
       "      <th>50%</th>\n",
       "      <td>3.695000</td>\n",
       "      <td>3.325000</td>\n",
       "      <td>17.710000</td>\n",
       "    </tr>\n",
       "    <tr>\n",
       "      <th>75%</th>\n",
       "      <td>3.920000</td>\n",
       "      <td>3.610000</td>\n",
       "      <td>18.900000</td>\n",
       "    </tr>\n",
       "    <tr>\n",
       "      <th>max</th>\n",
       "      <td>4.930000</td>\n",
       "      <td>5.424000</td>\n",
       "      <td>22.900000</td>\n",
       "    </tr>\n",
       "  </tbody>\n",
       "</table>\n",
       "</div>"
      ],
      "text/plain": [
       "          Points      Score      Weigh\n",
       "count  32.000000  32.000000  32.000000\n",
       "mean    3.596563   3.217250  17.848750\n",
       "std     0.534679   0.978457   1.786943\n",
       "min     2.760000   1.513000  14.500000\n",
       "25%     3.080000   2.581250  16.892500\n",
       "50%     3.695000   3.325000  17.710000\n",
       "75%     3.920000   3.610000  18.900000\n",
       "max     4.930000   5.424000  22.900000"
      ]
     },
     "execution_count": 3,
     "metadata": {},
     "output_type": "execute_result"
    }
   ],
   "source": [
    "data.describe()"
   ]
  },
  {
   "cell_type": "markdown",
   "id": "8b83832f",
   "metadata": {},
   "source": [
    "# Points"
   ]
  },
  {
   "cell_type": "code",
   "execution_count": 4,
   "id": "dfde3c87",
   "metadata": {},
   "outputs": [
    {
     "data": {
      "text/plain": [
       "3.5965625000000006"
      ]
     },
     "execution_count": 4,
     "metadata": {},
     "output_type": "execute_result"
    }
   ],
   "source": [
    "data[\"Points\"].mean() "
   ]
  },
  {
   "cell_type": "code",
   "execution_count": 5,
   "id": "20c10d00",
   "metadata": {},
   "outputs": [
    {
     "data": {
      "text/plain": [
       "3.6950000000000003"
      ]
     },
     "execution_count": 5,
     "metadata": {},
     "output_type": "execute_result"
    }
   ],
   "source": [
    "data[\"Points\"].median()"
   ]
  },
  {
   "cell_type": "code",
   "execution_count": 6,
   "id": "ea3d2e4d",
   "metadata": {},
   "outputs": [
    {
     "data": {
      "text/plain": [
       "0    3.07\n",
       "1    3.92\n",
       "dtype: float64"
      ]
     },
     "execution_count": 6,
     "metadata": {},
     "output_type": "execute_result"
    }
   ],
   "source": [
    "data[\"Points\"].mode()"
   ]
  },
  {
   "cell_type": "code",
   "execution_count": 7,
   "id": "c09846ae",
   "metadata": {},
   "outputs": [
    {
     "data": {
      "text/plain": [
       "0.28588135080645166"
      ]
     },
     "execution_count": 7,
     "metadata": {},
     "output_type": "execute_result"
    }
   ],
   "source": [
    "data[\"Points\"].var()"
   ]
  },
  {
   "cell_type": "code",
   "execution_count": 8,
   "id": "3f84aea5",
   "metadata": {},
   "outputs": [
    {
     "data": {
      "text/plain": [
       "0.5346787360709716"
      ]
     },
     "execution_count": 8,
     "metadata": {},
     "output_type": "execute_result"
    }
   ],
   "source": [
    "data[\"Points\"].std()"
   ]
  },
  {
   "cell_type": "code",
   "execution_count": 9,
   "id": "9534872b",
   "metadata": {},
   "outputs": [
    {
     "data": {
      "text/plain": [
       "2.17"
      ]
     },
     "execution_count": 9,
     "metadata": {},
     "output_type": "execute_result"
    }
   ],
   "source": [
    "np.ptp(data[\"Points\"])   #RAGNE"
   ]
  },
  {
   "cell_type": "markdown",
   "id": "7e28b47f",
   "metadata": {},
   "source": [
    "# Score"
   ]
  },
  {
   "cell_type": "code",
   "execution_count": 10,
   "id": "297f7610",
   "metadata": {},
   "outputs": [
    {
     "data": {
      "text/plain": [
       "3.2172499999999995"
      ]
     },
     "execution_count": 10,
     "metadata": {},
     "output_type": "execute_result"
    }
   ],
   "source": [
    "data[\"Score\"].mean()"
   ]
  },
  {
   "cell_type": "code",
   "execution_count": 11,
   "id": "bf49c0d5",
   "metadata": {},
   "outputs": [
    {
     "data": {
      "text/plain": [
       "3.325"
      ]
     },
     "execution_count": 11,
     "metadata": {},
     "output_type": "execute_result"
    }
   ],
   "source": [
    "data[\"Score\"].median()"
   ]
  },
  {
   "cell_type": "code",
   "execution_count": 12,
   "id": "04a565df",
   "metadata": {},
   "outputs": [
    {
     "data": {
      "text/plain": [
       "0    3.44\n",
       "dtype: float64"
      ]
     },
     "execution_count": 12,
     "metadata": {},
     "output_type": "execute_result"
    }
   ],
   "source": [
    "data[\"Score\"].mode()"
   ]
  },
  {
   "cell_type": "code",
   "execution_count": 13,
   "id": "161c743f",
   "metadata": {},
   "outputs": [
    {
     "data": {
      "text/plain": [
       "0.9573789677419356"
      ]
     },
     "execution_count": 13,
     "metadata": {},
     "output_type": "execute_result"
    }
   ],
   "source": [
    "data[\"Score\"].var()"
   ]
  },
  {
   "cell_type": "code",
   "execution_count": 14,
   "id": "64ddef51",
   "metadata": {},
   "outputs": [
    {
     "data": {
      "text/plain": [
       "0.9784574429896967"
      ]
     },
     "execution_count": 14,
     "metadata": {},
     "output_type": "execute_result"
    }
   ],
   "source": [
    "data[\"Score\"].std()"
   ]
  },
  {
   "cell_type": "code",
   "execution_count": 15,
   "id": "64e6dca8",
   "metadata": {},
   "outputs": [
    {
     "data": {
      "text/plain": [
       "3.9110000000000005"
      ]
     },
     "execution_count": 15,
     "metadata": {},
     "output_type": "execute_result"
    }
   ],
   "source": [
    "np.ptp(data[\"Score\"]) #RANGE"
   ]
  },
  {
   "cell_type": "markdown",
   "id": "b4c2d8f6",
   "metadata": {},
   "source": [
    "# Weigh"
   ]
  },
  {
   "cell_type": "code",
   "execution_count": 17,
   "id": "0d83508e",
   "metadata": {},
   "outputs": [
    {
     "data": {
      "text/plain": [
       "17.848750000000003"
      ]
     },
     "execution_count": 17,
     "metadata": {},
     "output_type": "execute_result"
    }
   ],
   "source": [
    "data[\"Weigh\"].mean()"
   ]
  },
  {
   "cell_type": "code",
   "execution_count": 18,
   "id": "7d3fdfb2",
   "metadata": {},
   "outputs": [
    {
     "data": {
      "text/plain": [
       "17.71"
      ]
     },
     "execution_count": 18,
     "metadata": {},
     "output_type": "execute_result"
    }
   ],
   "source": [
    "data[\"Weigh\"].median()"
   ]
  },
  {
   "cell_type": "code",
   "execution_count": 19,
   "id": "33e1111a",
   "metadata": {},
   "outputs": [
    {
     "data": {
      "text/plain": [
       "0    17.02\n",
       "1    18.90\n",
       "dtype: float64"
      ]
     },
     "execution_count": 19,
     "metadata": {},
     "output_type": "execute_result"
    }
   ],
   "source": [
    "data[\"Weigh\"].mode()"
   ]
  },
  {
   "cell_type": "code",
   "execution_count": 20,
   "id": "73c4d494",
   "metadata": {},
   "outputs": [
    {
     "data": {
      "text/plain": [
       "3.193166129032258"
      ]
     },
     "execution_count": 20,
     "metadata": {},
     "output_type": "execute_result"
    }
   ],
   "source": [
    "data[\"Weigh\"].var()"
   ]
  },
  {
   "cell_type": "code",
   "execution_count": 21,
   "id": "279dd2fc",
   "metadata": {},
   "outputs": [
    {
     "data": {
      "text/plain": [
       "1.7869432360968431"
      ]
     },
     "execution_count": 21,
     "metadata": {},
     "output_type": "execute_result"
    }
   ],
   "source": [
    "data[\"Weigh\"].std()"
   ]
  },
  {
   "cell_type": "code",
   "execution_count": 16,
   "id": "e494bd7d",
   "metadata": {},
   "outputs": [
    {
     "data": {
      "text/plain": [
       "8.399999999999999"
      ]
     },
     "execution_count": 16,
     "metadata": {},
     "output_type": "execute_result"
    }
   ],
   "source": [
    "np.ptp(data[\"Weigh\"]) # RANGE"
   ]
  },
  {
   "cell_type": "code",
   "execution_count": 22,
   "id": "e21ead19",
   "metadata": {},
   "outputs": [
    {
     "data": {
      "text/plain": [
       "(197.74162011566807, 202.25837988433193)"
      ]
     },
     "execution_count": 22,
     "metadata": {},
     "output_type": "execute_result"
    }
   ],
   "source": [
    "stats.t.interval(alpha=0.06,df=1999,loc=200,scale=30)"
   ]
  },
  {
   "cell_type": "code",
   "execution_count": 23,
   "id": "2c5f6376",
   "metadata": {},
   "outputs": [
    {
     "data": {
      "text/plain": [
       "(198.49520384079835, 201.50479615920165)"
      ]
     },
     "execution_count": 23,
     "metadata": {},
     "output_type": "execute_result"
    }
   ],
   "source": [
    "stats.t.interval(alpha=0.04,df=1999,loc=200,scale=30)"
   ]
  },
  {
   "cell_type": "code",
   "execution_count": 24,
   "id": "08455be7",
   "metadata": {},
   "outputs": [
    {
     "data": {
      "text/plain": [
       "(199.24783863179837, 200.75216136820163)"
      ]
     },
     "execution_count": 24,
     "metadata": {},
     "output_type": "execute_result"
    }
   ],
   "source": [
    "stats.t.interval(alpha=0.02,df=1999,loc=200,scale=30)"
   ]
  },
  {
   "cell_type": "code",
   "execution_count": null,
   "id": "6328dbed",
   "metadata": {},
   "outputs": [],
   "source": []
  }
 ],
 "metadata": {
  "kernelspec": {
   "display_name": "Python 3",
   "language": "python",
   "name": "python3"
  },
  "language_info": {
   "codemirror_mode": {
    "name": "ipython",
    "version": 3
   },
   "file_extension": ".py",
   "mimetype": "text/x-python",
   "name": "python",
   "nbconvert_exporter": "python",
   "pygments_lexer": "ipython3",
   "version": "3.8.8"
  }
 },
 "nbformat": 4,
 "nbformat_minor": 5
}
