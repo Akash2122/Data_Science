{
 "cells": [
  {
   "cell_type": "markdown",
   "id": "24a2a0d1",
   "metadata": {},
   "source": [
    "Q11) Suppose we want to estimate the average weight of an adult male in Mexico. We draw a random sample of 2,000 men from a population of 3,000,000 men and weigh them. We find that the average person in our sample weighs 200 pounds, and the standard deviation of the sample is 30 pounds. Calculate 94%,98%,96% confidence interval?"
   ]
  },
  {
   "cell_type": "code",
   "execution_count": 1,
   "id": "98eec216",
   "metadata": {},
   "outputs": [],
   "source": [
    "from scipy import stats\n",
    "import numpy as np"
   ]
  },
  {
   "cell_type": "code",
   "execution_count": 2,
   "id": "52a9aaaa",
   "metadata": {},
   "outputs": [
    {
     "data": {
      "text/plain": [
       "(197.74162011566807, 202.25837988433193)"
      ]
     },
     "execution_count": 2,
     "metadata": {},
     "output_type": "execute_result"
    }
   ],
   "source": [
    "stats.t.interval(alpha=0.06,df=1999,loc=200,scale=30)"
   ]
  },
  {
   "cell_type": "code",
   "execution_count": 3,
   "id": "c56f7fe5",
   "metadata": {},
   "outputs": [
    {
     "data": {
      "text/plain": [
       "(198.49520384079835, 201.50479615920165)"
      ]
     },
     "execution_count": 3,
     "metadata": {},
     "output_type": "execute_result"
    }
   ],
   "source": [
    "stats.t.interval(alpha=0.04,df=1999,loc=200,scale=30)"
   ]
  },
  {
   "cell_type": "code",
   "execution_count": 4,
   "id": "cfd3a71d",
   "metadata": {},
   "outputs": [
    {
     "data": {
      "text/plain": [
       "(199.24783863179837, 200.75216136820163)"
      ]
     },
     "execution_count": 4,
     "metadata": {},
     "output_type": "execute_result"
    }
   ],
   "source": [
    "stats.t.interval(alpha=0.02,df=1999,loc=200,scale=30)"
   ]
  },
  {
   "cell_type": "markdown",
   "id": "f4160678",
   "metadata": {},
   "source": [
    "# 94%"
   ]
  },
  {
   "cell_type": "code",
   "execution_count": 5,
   "id": "a79d3e03",
   "metadata": {},
   "outputs": [
    {
     "data": {
      "text/plain": [
       "-1.8818614764780115"
      ]
     },
     "execution_count": 5,
     "metadata": {},
     "output_type": "execute_result"
    }
   ],
   "source": [
    "stats.t.ppf(q=0.03,df=1999,loc=0,scale=1)   \n",
    "#ppf(q, df, loc=0, scale=1)"
   ]
  },
  {
   "cell_type": "code",
   "execution_count": 6,
   "id": "d5fa3797",
   "metadata": {},
   "outputs": [
    {
     "data": {
      "text/plain": [
       "198.7376089443071"
      ]
     },
     "execution_count": 6,
     "metadata": {},
     "output_type": "execute_result"
    }
   ],
   "source": [
    "200-1.8818614764780115*(30/np.sqrt(2000))"
   ]
  },
  {
   "cell_type": "code",
   "execution_count": 7,
   "id": "5890f906",
   "metadata": {},
   "outputs": [
    {
     "data": {
      "text/plain": [
       "201.2623910556929"
      ]
     },
     "execution_count": 7,
     "metadata": {},
     "output_type": "execute_result"
    }
   ],
   "source": [
    "200+1.8818614764780115*(30/np.sqrt(2000))"
   ]
  },
  {
   "cell_type": "markdown",
   "id": "4a9024f7",
   "metadata": {},
   "source": [
    "# 96%"
   ]
  },
  {
   "cell_type": "code",
   "execution_count": 8,
   "id": "788b8013",
   "metadata": {},
   "outputs": [
    {
     "data": {
      "text/plain": [
       "-2.055089962825778"
      ]
     },
     "execution_count": 8,
     "metadata": {},
     "output_type": "execute_result"
    }
   ],
   "source": [
    "stats.t.ppf(q=0.02,df=1999,loc=0,scale=1)   \n",
    "#ppf(q, df, loc=0, scale=1)"
   ]
  },
  {
   "cell_type": "code",
   "execution_count": 9,
   "id": "d4d5088d",
   "metadata": {},
   "outputs": [
    {
     "data": {
      "text/plain": [
       "198.6214037429732"
      ]
     },
     "execution_count": 9,
     "metadata": {},
     "output_type": "execute_result"
    }
   ],
   "source": [
    "200-2.055089962825778*(30/np.sqrt(2000))"
   ]
  },
  {
   "cell_type": "code",
   "execution_count": 10,
   "id": "a9698273",
   "metadata": {},
   "outputs": [
    {
     "data": {
      "text/plain": [
       "201.3785962570268"
      ]
     },
     "execution_count": 10,
     "metadata": {},
     "output_type": "execute_result"
    }
   ],
   "source": [
    "200+2.055089962825778*(30/np.sqrt(2000))"
   ]
  },
  {
   "cell_type": "markdown",
   "id": "eeecd168",
   "metadata": {},
   "source": [
    "# 98%"
   ]
  },
  {
   "cell_type": "code",
   "execution_count": 11,
   "id": "e8fb82f4",
   "metadata": {},
   "outputs": [
    {
     "data": {
      "text/plain": [
       "-2.3282147761069725"
      ]
     },
     "execution_count": 11,
     "metadata": {},
     "output_type": "execute_result"
    }
   ],
   "source": [
    "stats.t.ppf(q=0.01,df=1999,loc=0,scale=1)  \n",
    "#ppf(q, df, loc=0, scale=1)"
   ]
  },
  {
   "cell_type": "code",
   "execution_count": 12,
   "id": "2be570d6",
   "metadata": {},
   "outputs": [
    {
     "data": {
      "text/plain": [
       "198.4381860483216"
      ]
     },
     "execution_count": 12,
     "metadata": {},
     "output_type": "execute_result"
    }
   ],
   "source": [
    "200-2.3282147761069725*(30/np.sqrt(2000))"
   ]
  },
  {
   "cell_type": "code",
   "execution_count": 13,
   "id": "e7c87c73",
   "metadata": {},
   "outputs": [
    {
     "data": {
      "text/plain": [
       "201.5618139516784"
      ]
     },
     "execution_count": 13,
     "metadata": {},
     "output_type": "execute_result"
    }
   ],
   "source": [
    "200+2.3282147761069725*(30/np.sqrt(2000))"
   ]
  },
  {
   "cell_type": "markdown",
   "id": "89f2c4f5",
   "metadata": {},
   "source": [
    "# "
   ]
  },
  {
   "cell_type": "code",
   "execution_count": null,
   "id": "a83794ba",
   "metadata": {},
   "outputs": [],
   "source": []
  }
 ],
 "metadata": {
  "kernelspec": {
   "display_name": "Python 3",
   "language": "python",
   "name": "python3"
  },
  "language_info": {
   "codemirror_mode": {
    "name": "ipython",
    "version": 3
   },
   "file_extension": ".py",
   "mimetype": "text/x-python",
   "name": "python",
   "nbconvert_exporter": "python",
   "pygments_lexer": "ipython3",
   "version": "3.8.8"
  }
 },
 "nbformat": 4,
 "nbformat_minor": 5
}
