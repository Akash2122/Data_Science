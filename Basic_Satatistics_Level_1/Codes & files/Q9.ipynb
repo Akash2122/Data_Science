{
 "cells": [
  {
   "cell_type": "code",
   "execution_count": 1,
   "id": "145d733b",
   "metadata": {},
   "outputs": [],
   "source": [
    "import pandas \n",
    "data = pandas.read_csv(\"Q9_a.csv\")"
   ]
  },
  {
   "cell_type": "markdown",
   "id": "6bb18c9a",
   "metadata": {},
   "source": [
    "# SPEED"
   ]
  },
  {
   "cell_type": "code",
   "execution_count": 2,
   "id": "fdfc13e2",
   "metadata": {},
   "outputs": [
    {
     "data": {
      "text/plain": [
       "-0.11750986144663393"
      ]
     },
     "execution_count": 2,
     "metadata": {},
     "output_type": "execute_result"
    }
   ],
   "source": [
    "pandas.Series.skew(data[\"speed\"])"
   ]
  },
  {
   "cell_type": "code",
   "execution_count": 3,
   "id": "b7f57801",
   "metadata": {},
   "outputs": [
    {
     "data": {
      "text/plain": [
       "-0.5089944204057617"
      ]
     },
     "execution_count": 3,
     "metadata": {},
     "output_type": "execute_result"
    }
   ],
   "source": [
    "pandas.Series.kurt(data[\"speed\"])"
   ]
  },
  {
   "cell_type": "markdown",
   "id": "f1134713",
   "metadata": {},
   "source": [
    "# Distance"
   ]
  },
  {
   "cell_type": "code",
   "execution_count": 4,
   "id": "e3ccba86",
   "metadata": {},
   "outputs": [
    {
     "data": {
      "text/plain": [
       "0.8068949601674215"
      ]
     },
     "execution_count": 4,
     "metadata": {},
     "output_type": "execute_result"
    }
   ],
   "source": [
    "pandas.Series.skew(data[\"dist\"])"
   ]
  },
  {
   "cell_type": "code",
   "execution_count": 5,
   "id": "646d5ae6",
   "metadata": {},
   "outputs": [
    {
     "data": {
      "text/plain": [
       "0.4050525816795765"
      ]
     },
     "execution_count": 5,
     "metadata": {},
     "output_type": "execute_result"
    }
   ],
   "source": [
    "pandas.Series.kurt(data[\"dist\"])"
   ]
  },
  {
   "cell_type": "code",
   "execution_count": 8,
   "id": "a6d9451f",
   "metadata": {},
   "outputs": [],
   "source": [
    "data = pandas.read_csv(\"Q9_b.csv\")"
   ]
  },
  {
   "cell_type": "markdown",
   "id": "ed42bfe1",
   "metadata": {},
   "source": [
    "# ST"
   ]
  },
  {
   "cell_type": "code",
   "execution_count": 10,
   "id": "093e3c05",
   "metadata": {},
   "outputs": [
    {
     "data": {
      "text/plain": [
       "1.6114501961773586"
      ]
     },
     "execution_count": 10,
     "metadata": {},
     "output_type": "execute_result"
    }
   ],
   "source": [
    "pandas.Series.skew(data[\"SP\"])"
   ]
  },
  {
   "cell_type": "code",
   "execution_count": 11,
   "id": "ba3f474b",
   "metadata": {},
   "outputs": [
    {
     "data": {
      "text/plain": [
       "2.9773289437871835"
      ]
     },
     "execution_count": 11,
     "metadata": {},
     "output_type": "execute_result"
    }
   ],
   "source": [
    "pandas.Series.kurt(data[\"SP\"])"
   ]
  },
  {
   "cell_type": "markdown",
   "id": "a8f4c102",
   "metadata": {},
   "source": [
    "# WT"
   ]
  },
  {
   "cell_type": "code",
   "execution_count": 13,
   "id": "b5bb03ec",
   "metadata": {},
   "outputs": [
    {
     "data": {
      "text/plain": [
       "-0.6147533255357768"
      ]
     },
     "execution_count": 13,
     "metadata": {},
     "output_type": "execute_result"
    }
   ],
   "source": [
    "pandas.Series.skew(data[\"WT\"])"
   ]
  },
  {
   "cell_type": "code",
   "execution_count": 14,
   "id": "68bcbc5c",
   "metadata": {},
   "outputs": [
    {
     "data": {
      "text/plain": [
       "0.9502914910300326"
      ]
     },
     "execution_count": 14,
     "metadata": {},
     "output_type": "execute_result"
    }
   ],
   "source": [
    "pandas.Series.kurt(data[\"WT\"])"
   ]
  },
  {
   "cell_type": "code",
   "execution_count": null,
   "id": "7d704247",
   "metadata": {},
   "outputs": [],
   "source": []
  }
 ],
 "metadata": {
  "kernelspec": {
   "display_name": "Python 3",
   "language": "python",
   "name": "python3"
  },
  "language_info": {
   "codemirror_mode": {
    "name": "ipython",
    "version": 3
   },
   "file_extension": ".py",
   "mimetype": "text/x-python",
   "name": "python",
   "nbconvert_exporter": "python",
   "pygments_lexer": "ipython3",
   "version": "3.8.8"
  }
 },
 "nbformat": 4,
 "nbformat_minor": 5
}
